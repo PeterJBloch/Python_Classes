{
 "cells": [
  {
   "cell_type": "markdown",
   "metadata": {},
   "source": [
    "# Card Class"
   ]
  },
  {
   "cell_type": "markdown",
   "metadata": {},
   "source": [
    "lets make a simulation of the game war first we need a class for the cards. it will require two variables. also make a tostring method so you can see what your deck looks like fill in the class out line below add safty to raise error if the tank or suits are incorect use if else statements"
   ]
  },
  {
   "cell_type": "code",
   "execution_count": 280,
   "metadata": {
    "collapsed": true
   },
   "outputs": [],
   "source": [
    "Rankindex = [2,3,4,5,6,7,8,9,10,\"J\",\"Q\",\"K\",\"A\"]\n",
    "suits = [\"h\",\"d\",\"c\",\"s\"]\n",
    "class card:\n",
    "    def __init__(self,rank,suit):\n",
    "        #Save two variables\n",
    "        pass\n",
    "    def __str__(self):\n",
    "        #return a string that represents the card\n",
    "        pass\n",
    "        "
   ]
  },
  {
   "cell_type": "markdown",
   "metadata": {},
   "source": [
    "use the lists below to make a full deck of cards and lets import random to  shuffle the list you may need a temp variable."
   ]
  },
  {
   "cell_type": "code",
   "execution_count": 323,
   "metadata": {
    "collapsed": true
   },
   "outputs": [],
   "source": [
    "#will be left blank\n"
   ]
  },
  {
   "cell_type": "markdown",
   "metadata": {},
   "source": [
    "lets add the comparison functions each each one should return a true or false so you can use it in if statments use the array rankindex to know what card is better."
   ]
  },
  {
   "cell_type": "code",
   "execution_count": null,
   "metadata": {
    "collapsed": true
   },
   "outputs": [],
   "source": [
    "__lt__ less than\n",
    "__gt__ greater than\n",
    "__eq__ equal"
   ]
  },
  {
   "cell_type": "markdown",
   "metadata": {},
   "source": [
    "use the array below to add a bit more art to your printing. "
   ]
  },
  {
   "cell_type": "code",
   "execution_count": null,
   "metadata": {
    "collapsed": true
   },
   "outputs": [],
   "source": [
    "suitToSym={\"h\":\"♥\",\"d\":\"♦\",\"c\":\"♣\",\"s\":\"♠\"}"
   ]
  },
  {
   "cell_type": "markdown",
   "metadata": {},
   "source": [
    "lets make the simulation for the game war. start by dividing into to pile player1 and player2"
   ]
  },
  {
   "cell_type": "code",
   "execution_count": 32,
   "metadata": {
    "collapsed": true
   },
   "outputs": [],
   "source": [
    "#will be left blank"
   ]
  },
  {
   "cell_type": "markdown",
   "metadata": {},
   "source": [
    "make a function for one turn players compare their first cards and put them at the bottom of the winners deck. define aditional plies for the cards in a war and make sure that you alow for double wars through recersion or loops. becareful to not get index error if you run out of cards you lose."
   ]
  },
  {
   "cell_type": "code",
   "execution_count": null,
   "metadata": {
    "collapsed": true
   },
   "outputs": [],
   "source": []
  },
  {
   "cell_type": "markdown",
   "metadata": {},
   "source": [
    "put this function in a while loop untill someone loses"
   ]
  },
  {
   "cell_type": "code",
   "execution_count": null,
   "metadata": {
    "collapsed": true
   },
   "outputs": [],
   "source": []
  },
  {
   "cell_type": "markdown",
   "metadata": {},
   "source": [
    "next lets add some more effects to our program import time and use time.sleep to build tention. also clear the screen so it is more readable\n"
   ]
  },
  {
   "cell_type": "code",
   "execution_count": 2,
   "metadata": {},
   "outputs": [],
   "source": [
    "import time \n",
    "from IPython.display import clear_output\n",
    "print(\"i will disapear\")\n",
    "time.sleep(1)\n",
    "clear_output()"
   ]
  },
  {
   "cell_type": "markdown",
   "metadata": {},
   "source": [
    "provide print outs of the game as it is played who wins and lose or when there is a war\n"
   ]
  },
  {
   "cell_type": "code",
   "execution_count": null,
   "metadata": {
    "collapsed": true
   },
   "outputs": [],
   "source": []
  },
  {
   "cell_type": "markdown",
   "metadata": {},
   "source": [
    "then\n",
    "keep tract of how many cards each player has during the game and make a graph of their card count over time also add a variable to end the game after 500 rounds other wise it may go on forever."
   ]
  },
  {
   "cell_type": "code",
   "execution_count": null,
   "metadata": {
    "collapsed": true
   },
   "outputs": [],
   "source": []
  },
  {
   "cell_type": "code",
   "execution_count": null,
   "metadata": {
    "collapsed": true
   },
   "outputs": [],
   "source": []
  },
  {
   "cell_type": "code",
   "execution_count": null,
   "metadata": {
    "collapsed": true
   },
   "outputs": [],
   "source": []
  },
  {
   "cell_type": "code",
   "execution_count": 3,
   "metadata": {},
   "outputs": [
    {
     "name": "stdout",
     "output_type": "stream",
     "text": [
      "     player 1 - player 2\n",
      "cards   51        1\n",
      "      J♣     J♦\n",
      "             war\n"
     ]
    },
    {
     "data": {
      "image/png": "[encoded data removed]",
      "text/plain": [
       "<matplotlib.figure.Figure at 0x1100468d0>"
      ]
     },
     "metadata": {},
     "output_type": "display_data"
    }
   ],
   "source": [
    "#final this show the whole program in one cell what it should look like now\n",
    "import time \n",
    "from IPython.display import clear_output\n",
    "import matplotlib.pyplot as plt\n",
    "forceEnd = 500\n",
    "\n",
    "\n",
    "suitToSym={\"h\":\"♥\",\"d\":\"♦\",\"c\":\"♣\",\"s\":\"♠\"}\n",
    "Rankindex = [2,3,4,5,6,7,8,9,10,\"J\",\"Q\",\"K\",\"A\"]\n",
    "class card:\n",
    "    def __init__(self,rank,suit):\n",
    "        self.rank = rank\n",
    "        self.suit = suit\n",
    "    def __lt__(self,other):\n",
    "        return Rankindex.index(self.rank)<Rankindex.index(other.rank)\n",
    "    def __gt__(self,other):\n",
    "        return Rankindex.index(self.rank)>Rankindex.index(other.rank)\n",
    "    def __eq__(self,other):\n",
    "        return self.rank==other.rank\n",
    "    def __str__(self):\n",
    "        return(str(self.rank)+suitToSym[self.suit[0].lower()])\n",
    "    \n",
    "    \n",
    "    \n",
    "import random\n",
    "deck = []\n",
    "for i in suits:\n",
    "    for j in rank:\n",
    "        deck.append(card(j,i))\n",
    "\n",
    "temp = None\n",
    "for i in range(0,len(deck)):\n",
    "    index = random.randint(0,len(deck)-1)\n",
    "    temp = deck[i]\n",
    "    deck[i] = deck[index]\n",
    "    deck[index] = temp\n",
    "for i in deck:\n",
    "    break\n",
    "    print(i)\n",
    "\n",
    "player1 = []\n",
    "player2 = []\n",
    "while len(deck)>0:\n",
    "    player1.append(deck.pop(0))\n",
    "    player2.append(deck.pop(0))\n",
    "print(len(player1),len(player2))\n",
    "print(player1[0],player2[0])\n",
    "player1ccount = []\n",
    "player2ccount = []\n",
    "wins = 0\n",
    "pile = []\n",
    "def turn(p1,p2,pe,wins):\n",
    "    card1 =p1.pop(0)\n",
    "    card2 =p2.pop(0)\n",
    "    pe.append(card1)\n",
    "    pe.append(card2)\n",
    "    if card1>card2:\n",
    "        print(\"            p1 win\")\n",
    "        for i in pe:\n",
    "            p1.append(i)\n",
    "        pe = []\n",
    "        wins+=1\n",
    "    elif card1<card2:\n",
    "        print(\"            p2 win\")\n",
    "        for i in pe:\n",
    "            p2.append(i)\n",
    "        pe = []\n",
    "    elif card1==card2:\n",
    "        print(\"             war\")\n",
    "        if len(p1)<4:\n",
    "            return([],p2,pe,wins)\n",
    "        if len(p2)<4:\n",
    "            return(p1,[],pe,wins+1)\n",
    "        for i in range(0,3):\n",
    "            pe.append(p1.pop(0))\n",
    "            pe.append(p2.pop(0))\n",
    "        result = turn(p1,p2,pe,wins)\n",
    "        p1=result[0]\n",
    "        p2=result[1]\n",
    "        pe=result[2]\n",
    "        wins=result[3]\n",
    "\n",
    "    return(p1,p2,pe,wins)\n",
    "while len(player1)!=0 and len(player2)!=0 and forceEnd>0:\n",
    "    #recoding stuff\n",
    "    pile = []\n",
    "    #recod cards for each player\n",
    "    player1ccount.append(len(player1))\n",
    "    player2ccount.append(len(player2))\n",
    "    #display current stats\n",
    "    clear_output()\n",
    "    print(\"     player 1 - player 2\") #center is 15\n",
    "    print(\"cards   \"+str(len(player1))+\"        \"+str(len(player2)))\n",
    "    print(\"      \"+str(player1[0])+\"     \"+str(player2[0]))\n",
    "    #play a round\n",
    "    result = turn(player1,player2,pile,wins)\n",
    "    #save the results\n",
    "    player1=result[0]\n",
    "    player2=result[1]\n",
    "    wins=result[3]\n",
    "    #pauses to read\n",
    "    time.sleep(.1)\n",
    "    #input(\"continue\")\n",
    "    forceEnd-=1#it will end at some point\n",
    "for i,v in enumerate(player1ccount):\n",
    "    plt.plot(i,v,\"-ok\")\n",
    "for i,v in enumerate(player2ccount):\n",
    "    plt.plot(i,v,\"-ob\")\n",
    "\n",
    "plt.show()"
   ]
  },
  {
   "cell_type": "markdown",
   "metadata": {
    "collapsed": true
   },
   "source": [
    "Finlay lets add save a few accesors variables to get and set the suit and rank of the cards. also add accesor fuction to get the rankindex and suitTosym lists make sure they work by using the random choice to test a 10 randomly generated cards"
   ]
  },
  {
   "cell_type": "code",
   "execution_count": 36,
   "metadata": {
    "collapsed": true
   },
   "outputs": [],
   "source": [
    "#This is what should go into the file cardclass.py\n",
    "suitToSym={\"h\":\"♥\",\"d\":\"♦\",\"c\":\"♣\",\"s\":\"♠\"}\n",
    "Rankindex = [2,3,4,5,6,7,8,9,10,\"J\",\"Q\",\"K\",\"A\"]\n",
    "def getSuitToSym():\n",
    "    return suitToSym\n",
    "def getRankindex():\n",
    "    return Rankindex\n",
    "class card:\n",
    "    def __init__(self,rank,suit):\n",
    "        if isinstance(rank,str):\n",
    "            rank = rank.upper()\n",
    "        if rank in Rankindex:\n",
    "            self.rank = rank\n",
    "        else:\n",
    "            raise ValueError(\"rank not availible\")\n",
    "        if suit[0] in suitToSym.keys():\n",
    "            self.suit = suit[0].lower()\n",
    "        else:\n",
    "            raise ValueError(\"suit not availible\")\n",
    "    def getSuit(self):\n",
    "        return self.suit[0]\n",
    "    def getRank(self):\n",
    "        return self.rank\n",
    "    def setSuit(self,suit):\n",
    "        self.suit = suit[0]\n",
    "    def setRank(self,rank):\n",
    "        self.rank = rank\n",
    "    def __lt__(self,other):\n",
    "        return Rankindex.index(self.rank)<Rankindex.index(other.rank)\n",
    "    def __gt__(self,other):\n",
    "        return Rankindex.index(self.rank)>Rankindex.index(other.rank)\n",
    "    def __eq__(self,other):\n",
    "        return self.rank==other.rank\n",
    "    def __str__(self):\n",
    "        return(str(self.rank)+str(suitToSym[self.suit[0].lower()]))"
   ]
  },
  {
   "cell_type": "code",
   "execution_count": 38,
   "metadata": {},
   "outputs": [
    {
     "name": "stdout",
     "output_type": "stream",
     "text": [
      "d\n",
      "9\n",
      "9♦\n",
      "d\n",
      "7\n",
      "7♦\n",
      "c\n",
      "A\n",
      "A♣\n",
      "c\n",
      "10\n",
      "10♣\n",
      "c\n",
      "3\n",
      "3♣\n",
      "c\n",
      "2\n",
      "2♣\n",
      "h\n",
      "2\n",
      "2♥\n",
      "h\n",
      "A\n",
      "A♥\n",
      "h\n",
      "3\n",
      "3♥\n",
      "s\n",
      "5\n",
      "5♠\n"
     ]
    }
   ],
   "source": [
    "#testing getter\n",
    "import random\n",
    "suitToSym={\"h\":\"♥\",\"d\":\"♦\",\"c\":\"♣\",\"s\":\"♠\"}\n",
    "Rankindex = [2,3,4,5,6,7,8,9,10,\"J\",\"Q\",\"K\",\"A\"]\n",
    "for i in range(10):\n",
    "    r=random.choice(Rankindex)\n",
    "    s=random.choice(list(suitToSym.keys()))\n",
    "    c = card(r,s)\n",
    "    print(c.getSuit())\n",
    "    print(c.getRank())\n",
    "    print(c)"
   ]
  },
  {
   "cell_type": "markdown",
   "metadata": {},
   "source": [
    "finaly save of the class as a py file called cardclass.py\n",
    "\n",
    "we will use it later make sure it is in the save directory that you are working in."
   ]
  },
  {
   "cell_type": "code",
   "execution_count": null,
   "metadata": {
    "collapsed": true
   },
   "outputs": [],
   "source": [
    "\n"
   ]
  }
 ],
 "metadata": {
  "kernelspec": {
   "display_name": "Python 3",
   "language": "python",
   "name": "python3"
  },
  "language_info": {
   "codemirror_mode": {
    "name": "ipython",
    "version": 3
   },
   "file_extension": ".py",
   "mimetype": "text/x-python",
   "name": "python",
   "nbconvert_exporter": "python",
   "pygments_lexer": "ipython3",
   "version": "3.6.1"
  }
 },
 "nbformat": 4,
 "nbformat_minor": 2
}
