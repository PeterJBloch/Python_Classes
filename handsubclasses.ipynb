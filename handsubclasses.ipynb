{
 "cells": [
  {
   "cell_type": "code",
   "execution_count": 2,
   "metadata": {},
   "outputs": [
    {
     "name": "stdout",
     "output_type": "stream",
     "text": [
      "7♥\n"
     ]
    }
   ],
   "source": [
    "import cardclasses as C\n",
    "suitToSym = C.getSuitToSym()\n",
    "Rankindex = C.getRankindex()\n",
    "d=C.card(ranks[5],list(suits.keys())[0])  \n",
    "print(d)"
   ]
  },
  {
   "cell_type": "code",
   "execution_count": 9,
   "metadata": {},
   "outputs": [
    {
     "name": "stdout",
     "output_type": "stream",
     "text": [
      "6♣,8♥,8♥,8♦,J♠,8♦,A♠,2♣,8♣,6♣\n"
     ]
    }
   ],
   "source": [
    "class blackjackHand(C.hand):\n",
    "    def __init__(self,cards):\n",
    "        super().__init__(cards)\n",
    "\n",
    "        \n",
    "import random\n",
    "pile = []\n",
    "for i in range(10):\n",
    "    pile.append(C.card(random.choice(ranks),random.choice(list(suits.keys()))))\n",
    "print(blackjackHand(pile))"
   ]
  },
  {
   "cell_type": "code",
   "execution_count": 19,
   "metadata": {},
   "outputs": [
    {
     "name": "stdout",
     "output_type": "stream",
     "text": [
      "A♠,3♦,K♣\n",
      "A\n",
      "3\n",
      "K\n",
      "14\n",
      "\n",
      "7♠,4♣,6♠\n",
      "7\n",
      "4\n",
      "6\n",
      "17\n",
      "v\n"
     ]
    }
   ],
   "source": [
    "class blackjackHand(C.hand):\n",
    "    def __init__(self,cards):\n",
    "        super().__init__(cards)\n",
    "    def evaluate(self):\n",
    "        handValue = 0\n",
    "        aces = 0\n",
    "        cardValues=super().ranks()\n",
    "        \n",
    "        for i in cardValues:\n",
    "            if isinstance(i,int):\n",
    "                print(i)\n",
    "                handValue+=i     \n",
    "            if isinstance(i,str):\n",
    "                print(i)\n",
    "                if i==\"A\":\n",
    "                    handValue+=11\n",
    "                    aces+=1\n",
    "                else:\n",
    "                    handValue+=10\n",
    "        while aces>0 and handValue>21:\n",
    "            handValue-=10\n",
    "            aces-=1\n",
    "        if handValue>21:\n",
    "            handValue=-1\n",
    "        return handValue\n",
    "    \n",
    "        \n",
    "\n",
    "import random\n",
    "user = \"\"\n",
    "while user == \"\":\n",
    "    pile = []\n",
    "    for i in range(3):\n",
    "        pile.append(C.card(random.choice(ranks),random.choice(list(suits.keys()))))\n",
    "    print(blackjackHand(pile))\n",
    "    print(blackjackHand(pile).evaluate())\n",
    "    user=input()"
   ]
  },
  {
   "cell_type": "code",
   "execution_count": null,
   "metadata": {
    "collapsed": true
   },
   "outputs": [],
   "source": [
    "class blackjackHand(C.hand):\n",
    "    def __init__(self,cards):\n",
    "        super().__init__(cards)\n",
    "    def evaluate(self):\n",
    "        handValue = 0\n",
    "        aces = 0\n",
    "        cardValues=super().ranks()\n",
    "        \n",
    "        for i in cardValues:\n",
    "            if isinstance(i,int):\n",
    "                print(i)\n",
    "                handValue+=i     \n",
    "            if isinstance(i,str):\n",
    "                print(i)\n",
    "                if i==\"A\":\n",
    "                    handValue+=11\n",
    "                    aces+=1\n",
    "                else:\n",
    "                    handValue+=10\n",
    "        while aces>0 and handValue>21:\n",
    "            handValue-=10\n",
    "            aces-=1\n",
    "        if handValue>21:\n",
    "            handValue=-1\n",
    "        return handValue\n",
    "    def __gt__(self,other):\n",
    "        return self.evaluate()>other.evaluate()\n",
    "    def __lt__(self,other):\n",
    "        return self.evaluate()<other.evaluate()\n",
    "    def __eq__(self,other):\n",
    "        return self.evaluate()==other.evaluate()\n",
    "    \n",
    "                \n",
    "    \n",
    "\n",
    "        \n",
    "\n",
    "import random\n",
    "user = \"\"\n",
    "while user == \"\":\n",
    "    pile = []\n",
    "    for i in range(3):\n",
    "        pile.append(C.card(random.choice(ranks),random.choice(list(suits.keys()))))\n",
    "    print(blackjackHand(pile))\n",
    "    print(blackjackHand(pile).evaluate())\n",
    "    user=input()"
   ]
  },
  {
   "cell_type": "markdown",
   "metadata": {},
   "source": [
    "a new sub class poker hand"
   ]
  },
  {
   "cell_type": "code",
   "execution_count": 33,
   "metadata": {},
   "outputs": [
    {
     "name": "stdout",
     "output_type": "stream",
     "text": [
      "8♣,4♥,5♥,6♥,7♥\n",
      "5\n",
      "2 3\n",
      "3 4\n",
      "4 5\n",
      "5 6\n",
      "True\n",
      "\n",
      "8♣,4♥,5♥,6♥,7♥\n",
      "5\n",
      "2 3\n",
      "3 4\n",
      "4 5\n",
      "5 6\n",
      "True\n",
      "f\n"
     ]
    }
   ],
   "source": [
    "Rankindex=C.getRankindex()\n",
    "class pockerHand(C.hand):\n",
    "    def __init__(self,cards):\n",
    "        super().__init__(cards)\n",
    "    def stright(self):\n",
    "        cardRanks=super().ranks()\n",
    "        cardsValues=[]\n",
    "        for i in cardRanks:\n",
    "            cardsValues.append(Rankindex.index(i))\n",
    "        cardsValues.sort()\n",
    "        stright=True\n",
    "        print(len(cardsValues))\n",
    "        for i in range(len(cardsValues)-1):\n",
    "            print(cardsValues[i],cardsValues[i+1])\n",
    "            if (cardsValues[i]!=cardsValues[i+1]-1):\n",
    "                print(\"no\")\n",
    "                stright=False\n",
    "                break\n",
    "        return stright\n",
    "    def flush(self):\n",
    "        suit = super().suits()\n",
    "        for k,v in suit.items():\n",
    "            if v>4:\n",
    "                return True\n",
    "        return False\n",
    "    def __gt__(self,other):\n",
    "        return self.evaluate()>other.evaluate()\n",
    "    def __lt__(self,other):\n",
    "        return self.evaluate()<other.evaluate()\n",
    "    def __eq__(self,other):\n",
    "        return self.evaluate()==other.evaluate()\n",
    "    \n",
    "\n",
    "import random\n",
    "user = \"\"\n",
    "while user == \"\":\n",
    "    pile = [C.card(Rankindex[6],list(suits.keys())[2])]\n",
    "    pile.append(C.card(Rankindex[2],list(suits.keys())[0]))\n",
    "    pile.append(C.card(Rankindex[3],list(suits.keys())[0]))\n",
    "    pile.append(C.card(Rankindex[4],list(suits.keys())[0]))\n",
    "    pile.append(C.card(Rankindex[5],list(suits.keys())[0]))\n",
    "    print(pockerHand(pile))\n",
    "    print(pockerHand(pile).stright())\n",
    "    user=input()"
   ]
  },
  {
   "cell_type": "code",
   "execution_count": null,
   "metadata": {
    "collapsed": true
   },
   "outputs": [],
   "source": []
  }
 ],
 "metadata": {
  "kernelspec": {
   "display_name": "Python 3",
   "language": "python",
   "name": "python3"
  }
 },
 "nbformat": 4,
 "nbformat_minor": 2
}
