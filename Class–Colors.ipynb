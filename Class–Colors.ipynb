{
 "cells": [
  {
   "cell_type": "markdown",
   "metadata": {},
   "source": [
    "### How to use classes to print in colors:\n",
    "\n",
    "Did you know you can use classes to modify your print's output in Python? There are a series of symbols that can tell python how to print, and using this method, you can colorize your output!"
   ]
  },
  {
   "cell_type": "code",
   "execution_count": 59,
   "metadata": {},
   "outputs": [
    {
     "name": "stdout",
     "output_type": "stream",
     "text": [
      "\u001b[95mThis sentence is purple.\u001b[0m\n",
      "\u001b[92mThis sentence is green!\u001b[0m\n",
      "This sentence is no fun :(\n"
     ]
    }
   ],
   "source": [
    "class color:\n",
    "    PURPLE = '\\033[95m'\n",
    "    GREEN = '\\033[92m'\n",
    "    END = '\\033[0m'\n",
    "    RED = '\\033[91m'\n",
    "\n",
    "print(color.PURPLE+\"This sentence is purple.\"+color.END)\n",
    "print(color.GREEN+\"This sentence is green!\"+color.END)\n",
    "print(\"This sentence is no fun :(\")"
   ]
  },
  {
   "cell_type": "markdown",
   "metadata": {},
   "source": [
    "### Exercise 1 - Try to copy some fun colors into text\n",
    "\n",
    "Using the premade class, print your name in a funky color. (Hint: As good practice, make sure to use color.end to revert the text back to normal when you're done.)"
   ]
  },
  {
   "cell_type": "code",
   "execution_count": 72,
   "metadata": {},
   "outputs": [
    {
     "name": "stdout",
     "output_type": "stream",
     "text": [
      "\u001b[95mPeter\u001b[0m\n"
     ]
    }
   ],
   "source": [
    "# Insert answer here\n",
    "\n",
    "#Sample answer:\n",
    "print(color.PURPLE+'Peter'+color.END)"
   ]
  },
  {
   "cell_type": "markdown",
   "metadata": {},
   "source": [
    "### Exercise 2 - Implementing inputs\n",
    "\n",
    "Begin by asking a user how much money made last year. If the number is at or above \\$10, print it in green. If it is below \\$10 or below, print it in red. (Hint: Be sure to use color.END)"
   ]
  },
  {
   "cell_type": "code",
   "execution_count": 71,
   "metadata": {},
   "outputs": [
    {
     "name": "stdout",
     "output_type": "stream",
     "text": [
      "How much money did you make last year in $$ 100\n",
      "\u001b[92m100\u001b[0m\n"
     ]
    }
   ],
   "source": [
    "#Sample answer\n",
    "money = int(input('How much money did you make last year in $$ '))\n",
    "if money>=10:\n",
    "    print(color.GREEN+str(money)+color.END)\n",
    "if money<10:\n",
    "    print(color.RED+str(money)+color.END)"
   ]
  },
  {
   "cell_type": "markdown",
   "metadata": {},
   "source": [
    "### Exercise 3 - Festive text\n",
    "\n",
    "Ask the user for the name of their favorite Winter holiday. Then, surprise them by printing every other letter in either green or red. (Hint: know how to use list() function)"
   ]
  },
  {
   "cell_type": "code",
   "execution_count": 70,
   "metadata": {},
   "outputs": [
    {
     "name": "stdout",
     "output_type": "stream",
     "text": [
      "What is your favorite Winter holiday? Christmas\n",
      "\u001b[91mC\u001b[0m\u001b[92mh\u001b[0m\u001b[91mr\u001b[0m\u001b[92mi\u001b[0m\u001b[91ms\u001b[0m\u001b[92mt\u001b[0m\u001b[91mm\u001b[0m\u001b[92ma\u001b[0m\u001b[91ms\u001b[0m\n"
     ]
    }
   ],
   "source": [
    "string=''\n",
    "red = True\n",
    "holiday=input('What is your favorite Winter holiday? ')\n",
    "for i in list(holiday):\n",
    "    if red == True:\n",
    "        string+=color.RED+i+color.END\n",
    "        red=False\n",
    "    elif red==False:\n",
    "        string+=color.GREEN+i+color.END\n",
    "        red=True\n",
    "print(string)"
   ]
  },
  {
   "cell_type": "markdown",
   "metadata": {},
   "source": [
    "So what did we do up there? We used the class method to simplify codes into variables in order to print colors. Here's a breakdown of what everything does:\n",
    "\n",
    "'\\33[' is an escape code similar to \\n is for a new line. Instead, this tells Python we want to access our text outputs. You will use this exact escape code every time you want to implement any kind of text change. To finish our command, the letter 'm'. Is used\n",
    "\n",
    "'#m' next tells us the text change we want to access. You can play with this to find new color combinations in Python by changing this variable. But first, let's check out the most generic way to access color combinations."
   ]
  },
  {
   "cell_type": "code",
   "execution_count": 58,
   "metadata": {},
   "outputs": [
    {
     "name": "stdout",
     "output_type": "stream",
     "text": [
      "\u001b[1;34;43m This blue text is highlighted\n"
     ]
    }
   ],
   "source": [
    "print('\\033[1;34;43m This blue text is highlighted')"
   ]
  },
  {
   "cell_type": "markdown",
   "metadata": {},
   "source": [
    "In Python, after the \\033[, we use a series of semicolons to split different number commands for the output text.\n",
    "\n",
    "For example, if the number to indicate we want to type in bold is #1, and we want green (#92) bold, we type the following:\n",
    "\n",
    "(For a table on what some codes mean what, click on this link: http://ozzmaker.com/add-colour-to-text-in-python/.)"
   ]
  },
  {
   "cell_type": "code",
   "execution_count": 63,
   "metadata": {},
   "outputs": [
    {
     "name": "stdout",
     "output_type": "stream",
     "text": [
      "\u001b[1;92mThis text is green bold.\n",
      "Why am I still in this color?\n"
     ]
    }
   ],
   "source": [
    "print(\"\\033[1;92mThis text is green bold.\")\n",
    "print('Why am I still in this color?')"
   ]
  },
  {
   "cell_type": "markdown",
   "metadata": {},
   "source": [
    "As you can see, changing our text output will permanently change how we print, so we have to be careful to always change it back when we're done."
   ]
  },
  {
   "cell_type": "code",
   "execution_count": 50,
   "metadata": {},
   "outputs": [
    {
     "name": "stdout",
     "output_type": "stream",
     "text": [
      "\u001b[0;37;40m Normal text\n",
      "\n",
      "\u001b[2;37;40m Underlined text\u001b[0;37;40m \n",
      "\n",
      "\u001b[1;37;40m Bright Colour\u001b[0;37;40m \n",
      "\n",
      "\u001b[3;37;40m Negative Colour\u001b[0;37;40m \n",
      "\n",
      "\u001b[5;37;40m Negative Colour\u001b[0;37;40m\n",
      "\n",
      "\u001b[1;37;40m \u001b[2;37:40m TextColour BlackBackground          TextColour GreyBackground                WhiteText ColouredBackground\u001b[0;37;40m\n",
      "\n",
      "\u001b[1;30;40m Dark Gray      \u001b[0m 1;30;40m            \u001b[0;30;47m Black      \u001b[0m 0;30;47m               \u001b[0;37;41m Black      \u001b[0m 0;37;41m\n",
      "\u001b[1;31;40m Bright Red     \u001b[0m 1;31;40m            \u001b[0;31;47m Red        \u001b[0m 0;31;47m               \u001b[0;37;42m Black      \u001b[0m 0;37;42m\n",
      "\u001b[1;32;40m Bright Green   \u001b[0m 1;32;40m            \u001b[0;32;47m Green      \u001b[0m 0;32;47m               \u001b[0;37;43m Black      \u001b[0m 0;37;43m\n",
      "\u001b[1;33;40m Yellow         \u001b[0m 1;33;40m            \u001b[0;33;47m Brown      \u001b[0m 0;33;47m               \u001b[0;37;44m Black      \u001b[0m 0;37;44m\n",
      "\u001b[1;34;40m Bright Blue    \u001b[0m 1;34;40m            \u001b[0;34;47m Blue       \u001b[0m 0;34;47m               \u001b[0;37;45m Black      \u001b[0m 0;37;45m\n",
      "\u001b[1;35;40m Bright Magenta \u001b[0m 1;35;40m            \u001b[0;35;47m Magenta    \u001b[0m 0;35;47m               \u001b[0;37;46m Black      \u001b[0m 0;37;46m\n",
      "\u001b[1;36;40m Bright Cyan    \u001b[0m 1;36;40m            \u001b[0;36;47m Cyan       \u001b[0m 0;36;47m               \u001b[0;37;47m Black      \u001b[0m 0;37;47m\n",
      "\u001b[1;37;40m White          \u001b[0m 1;37;40m            \u001b[0;37;40m Light Grey \u001b[0m 0;37;40m               \u001b[0;37;48m Black      \u001b[0m 0;37;48m\n"
     ]
    }
   ],
   "source": [
    "#Ignore the rest. We can use it for later.\n",
    "\n",
    "\n",
    "\n",
    "print(\"\\033[0;37;40m Normal text\\n\")\n",
    "print(\"\\033[2;37;40m Underlined text\\033[0;37;40m \\n\")\n",
    "print(\"\\033[1;37;40m Bright Colour\\033[0;37;40m \\n\")\n",
    "print(\"\\033[3;37;40m Negative Colour\\033[0;37;40m \\n\")\n",
    "print(\"\\033[5;37;40m Negative Colour\\033[0;37;40m\\n\")\n",
    " \n",
    "print(\"\\033[1;37;40m \\033[2;37:40m TextColour BlackBackground          TextColour GreyBackground                WhiteText ColouredBackground\\033[0;37;40m\\n\")\n",
    "print(\"\\033[1;30;40m Dark Gray      \\033[0m 1;30;40m            \\033[0;30;47m Black      \\033[0m 0;30;47m               \\033[0;37;41m Black      \\033[0m 0;37;41m\")\n",
    "print(\"\\033[1;31;40m Bright Red     \\033[0m 1;31;40m            \\033[0;31;47m Red        \\033[0m 0;31;47m               \\033[0;37;42m Black      \\033[0m 0;37;42m\")\n",
    "print(\"\\033[1;32;40m Bright Green   \\033[0m 1;32;40m            \\033[0;32;47m Green      \\033[0m 0;32;47m               \\033[0;37;43m Black      \\033[0m 0;37;43m\")\n",
    "print(\"\\033[1;33;40m Yellow         \\033[0m 1;33;40m            \\033[0;33;47m Brown      \\033[0m 0;33;47m               \\033[0;37;44m Black      \\033[0m 0;37;44m\")\n",
    "print(\"\\033[1;34;40m Bright Blue    \\033[0m 1;34;40m            \\033[0;34;47m Blue       \\033[0m 0;34;47m               \\033[0;37;45m Black      \\033[0m 0;37;45m\")\n",
    "print(\"\\033[1;35;40m Bright Magenta \\033[0m 1;35;40m            \\033[0;35;47m Magenta    \\033[0m 0;35;47m               \\033[0;37;46m Black      \\033[0m 0;37;46m\")\n",
    "print(\"\\033[1;36;40m Bright Cyan    \\033[0m 1;36;40m            \\033[0;36;47m Cyan       \\033[0m 0;36;47m               \\033[0;37;47m Black      \\033[0m 0;37;47m\")\n",
    "print(\"\\033[1;37;40m White          \\033[0m 1;37;40m            \\033[0;37;40m Light Grey \\033[0m 0;37;40m               \\033[0;37;48m Black      \\033[0m 0;37;48m\")"
   ]
  },
  {
   "cell_type": "code",
   "execution_count": 57,
   "metadata": {},
   "outputs": [
    {
     "name": "stdout",
     "output_type": "stream",
     "text": [
      "Loading...\n",
      "\u001b[1000D1%\u001b[1000D2%\u001b[1000D3%\u001b[1000D4%\u001b[1000D5%\u001b[1000D6%\u001b[1000D7%\u001b[1000D8%\u001b[1000D9%\u001b[1000D10%\u001b[1000D11%\u001b[1000D12%\u001b[1000D13%\u001b[1000D14%\u001b[1000D15%\u001b[1000D16%\u001b[1000D17%\u001b[1000D18%\u001b[1000D19%\u001b[1000D20%\u001b[1000D21%\u001b[1000D22%\u001b[1000D23%\u001b[1000D24%\u001b[1000D25%\u001b[1000D26%\u001b[1000D27%\u001b[1000D28%\u001b[1000D29%\u001b[1000D30%\u001b[1000D31%\u001b[1000D32%\u001b[1000D33%\u001b[1000D34%\u001b[1000D35%\u001b[1000D36%\u001b[1000D37%\u001b[1000D38%\u001b[1000D39%\u001b[1000D40%\u001b[1000D41%\u001b[1000D42%\u001b[1000D43%\u001b[1000D44%\u001b[1000D45%\u001b[1000D46%\u001b[1000D47%\u001b[1000D48%\u001b[1000D49%\u001b[1000D50%\u001b[1000D51%\u001b[1000D52%\u001b[1000D53%\u001b[1000D54%\u001b[1000D55%\u001b[1000D56%\u001b[1000D57%\u001b[1000D58%\u001b[1000D59%\u001b[1000D60%\u001b[1000D61%\u001b[1000D62%\u001b[1000D63%\u001b[1000D64%\u001b[1000D65%\u001b[1000D66%\u001b[1000D67%\u001b[1000D68%\u001b[1000D69%\u001b[1000D70%\u001b[1000D71%\u001b[1000D72%\u001b[1000D73%\u001b[1000D74%\u001b[1000D75%\u001b[1000D76%\u001b[1000D77%\u001b[1000D78%\u001b[1000D79%\u001b[1000D80%\u001b[1000D81%\u001b[1000D82%\u001b[1000D83%\u001b[1000D84%\u001b[1000D85%\u001b[1000D86%\u001b[1000D87%\u001b[1000D88%\u001b[1000D89%\u001b[1000D90%\u001b[1000D91%\u001b[1000D92%\u001b[1000D93%\u001b[1000D94%\u001b[1000D95%\u001b[1000D96%\u001b[1000D97%\u001b[1000D98%\u001b[1000D99%\u001b[1000D100%"
     ]
    }
   ],
   "source": [
    "#For Tailgunner:\n",
    "import time, sys\n",
    "def loading():\n",
    "    print (\"Loading...\")\n",
    "    for i in range(0, 100):\n",
    "        time.sleep(0.1)\n",
    "        sys.stdout.write(u\"\\u001b[1000D\" + str(i + 1) + \"%\")\n",
    "        sys.stdout.flush()\n",
    "    \n",
    "loading()"
   ]
  },
  {
   "cell_type": "code",
   "execution_count": null,
   "metadata": {
    "collapsed": true
   },
   "outputs": [],
   "source": []
  }
 ],
 "metadata": {
  "kernelspec": {
   "display_name": "Python 3",
   "language": "python",
   "name": "python3"
  },
  "language_info": {
   "codemirror_mode": {
    "name": "ipython",
    "version": 3
   },
   "file_extension": ".py",
   "mimetype": "text/x-python",
   "name": "python",
   "nbconvert_exporter": "python",
   "pygments_lexer": "ipython3",
   "version": "3.6.1"
  }
 },
 "nbformat": 4,
 "nbformat_minor": 2
}
