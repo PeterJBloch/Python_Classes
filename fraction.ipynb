{
 "cells": [
  {
   "cell_type": "markdown",
   "metadata": {},
   "source": [
    "# Making a Fraction class"
   ]
  },
  {
   "cell_type": "markdown",
   "metadata": {},
   "source": [
    "why would you need a fraction class? because sometimes decimals are hard to read. can you tell me what I have to multiply 0.3846153846153846 by to get 1? To start consider what this class has to store and what their data types are. create an __init__ fuction to define the variables you came up with. also create a tostring fuction using so it can be read out."
   ]
  },
  {
   "cell_type": "code",
   "execution_count": null,
   "metadata": {
    "collapsed": true
   },
   "outputs": [],
   "source": []
  },
  {
   "cell_type": "markdown",
   "metadata": {},
   "source": [
    "test out below some of these values and print them out below.\n",
    "\n",
    "\n",
    "1,2 print-> 1/2\n",
    "\n",
    "\n",
    "4,5 print-> 4/5\n",
    "\n",
    "\n",
    "9,3 print-> 9/3\n",
    "\n",
    "\n",
    "1,0 print-> 1/0\n",
    "\n",
    "\n",
    "4,1 print-> 4/1"
   ]
  },
  {
   "cell_type": "code",
   "execution_count": null,
   "metadata": {
    "collapsed": true
   },
   "outputs": [],
   "source": []
  },
  {
   "cell_type": "markdown",
   "metadata": {},
   "source": [
    "Congrats if you got what was write up there but it can make it better for example you can't have a fraction with a zero below and 4/1 could be printed 4 and 9/3 could be reduced. lets fix one error at a time. "
   ]
  },
  {
   "cell_type": "markdown",
   "metadata": {},
   "source": [
    "edit you class above and add a statement to the init to throw and error if the user puts in wrong numbers examing the code below to see how."
   ]
  },
  {
   "cell_type": "code",
   "execution_count": null,
   "metadata": {
    "collapsed": true
   },
   "outputs": [],
   "source": [
    "user = input(\"give me a number above 5\")\n",
    "if int(user)>5:\n",
    "    print(\"Thank you\")\n",
    "else:\n",
    "    raise ValueError('not greater than 5')\n"
   ]
  },
  {
   "cell_type": "markdown",
   "metadata": {},
   "source": [
    "second lest fix the print out error if the fraction is over one just print out the numerator"
   ]
  },
  {
   "cell_type": "markdown",
   "metadata": {},
   "source": [
    "finaly lets rduce a faction. if you remember algrebra in order to do this we will multibly by a clever way of writting one so that we can cross cancel. write a fucntion to find the GCF larges number that goes into both numbers evenly write it below and test it for the numbers 56 and 35 should give you 7. "
   ]
  },
  {
   "cell_type": "code",
   "execution_count": null,
   "metadata": {
    "collapsed": true
   },
   "outputs": [],
   "source": [
    "#GCF"
   ]
  },
  {
   "cell_type": "markdown",
   "metadata": {},
   "source": [
    "add this GCF fuction to your class and divide both the nemerator and denomerator by this with the fuction call. finaly retest your class.\n",
    "1,2 print-> 1/2\n",
    "\n",
    "\n",
    "4,5 print-> 4/5\n",
    "\n",
    "\n",
    "9,3 print-> 3\n",
    "\n",
    "\n",
    "1,0 print-> error\n",
    "\n",
    "\n",
    "4,1 print-> 4"
   ]
  },
  {
   "cell_type": "markdown",
   "metadata": {},
   "source": [
    "lets do some math with our fractions before you do this you should try to remember some algerbra get some paper and write out  a/b+x/y do this for each opperator +,-,*,/. then we will do the multiply fucntion."
   ]
  },
  {
   "cell_type": "markdown",
   "metadata": {},
   "source": [
    "When multiplying fractions you just multibly the top and bottom add this line of code to your class adjust to your variable names"
   ]
  },
  {
   "cell_type": "code",
   "execution_count": null,
   "metadata": {
    "collapsed": true
   },
   "outputs": [],
   "source": [
    "def mul(self,other):\n",
    "    #self.numerator= other.numerator*self.numerator\n",
    "    #self.denominator = other.denominator*self.denominator\n",
    "    "
   ]
  },
  {
   "cell_type": "markdown",
   "metadata": {},
   "source": [
    "Now lets test this out make two faractions 1/2 and 4/9 multibly the first by the second and print. It should be 4/18 be careful notcie that the original fraction of 1/2 has been removed and our new fraction is not reduced. we can fix this by recalling and returning our init. make temp var of what the new numerator and denominator are and return a new fraction with the call fraction(tempnumerator, tempdenominator) also add 2 underscores brfore and after so you can use the \"*\" in your fucntions line in below"
   ]
  },
  {
   "cell_type": "code",
   "execution_count": 93,
   "metadata": {},
   "outputs": [
    {
     "name": "stdout",
     "output_type": "stream",
     "text": [
      "hello world helloworld\n"
     ]
    }
   ],
   "source": [
    "class joiningclass:\n",
    "    def __init__(self,text):\n",
    "        self.text=text\n",
    "    def __mul__(self,other):\n",
    "        return joiningclass(self.text+other.text)\n",
    "    def __str__(self):\n",
    "        return self.text\n",
    "\n",
    "a = joiningclass(\"hello\")\n",
    "b = joiningclass(\"world\")\n",
    "d=a*b\n",
    "print(a,b,d)"
   ]
  },
  {
   "cell_type": "markdown",
   "metadata": {},
   "source": [
    "your fraction should now reduce when you multilpy now use the other functions overrides to complete the other operations listed bellow."
   ]
  },
  {
   "cell_type": "code",
   "execution_count": null,
   "metadata": {
    "collapsed": true
   },
   "outputs": [],
   "source": [
    "__mul__\n",
    "__add__\n",
    "__sub__\n",
    "__truediv__"
   ]
  },
  {
   "cell_type": "markdown",
   "metadata": {},
   "source": [
    "to finish the code lets add a float command so your can do float(fraction) to make a float use the comand below"
   ]
  },
  {
   "cell_type": "code",
   "execution_count": null,
   "metadata": {
    "collapsed": true
   },
   "outputs": [],
   "source": [
    "__float__"
   ]
  },
  {
   "cell_type": "markdown",
   "metadata": {},
   "source": [
    "copy your completed class below and right at the top where we started"
   ]
  },
  {
   "cell_type": "code",
   "execution_count": 366,
   "metadata": {},
   "outputs": [
    {
     "name": "stdout",
     "output_type": "stream",
     "text": [
      "done\n"
     ]
    }
   ],
   "source": [
    "class fraction:\n",
    "    def __init__(self,n,d):\n",
    "\n",
    "        self.numerator=n\n",
    "        if d!=0:\n",
    "            self.denominator=d\n",
    "        else:\n",
    "            raise ValueError('A very specific bad thing happened. denominator !=0')\n",
    "        if self.numerator!=0:\n",
    "            pass\n",
    "    def __add__(self,other):\n",
    "        newNumerator = self.denominator*other.numerator+other.denominator*self.numerator\n",
    "        newDenominator = self.denominator*other.denominator\n",
    "        return fraction(newNumerator,newDenominator)\n",
    "    def __sub__(self,other):\n",
    "        newNumerator = self.numerator*other.denominator-other.numerator*self.denominator\n",
    "        newDenominator = self.denominator*other.denominator\n",
    "        return fraction(newNumerator,newDenominator)\n",
    "    def __mul__(self,other):\n",
    "        newNumerator = self.numerator*other.numerator\n",
    "        newDenominator = self.denominator*other.denominator\n",
    "        return fraction(newNumerator,newDenominator)\n",
    "    def __truediv__(self,other):\n",
    "        newNumerator = self.numerator*other.denominator\n",
    "        newDenominator = self.denominator*other.numerator\n",
    "        return fraction(newNumerator,newDenominator)\n",
    "    def reduce(self):\n",
    "        #divide by GCF\n",
    "        while True:\n",
    "            gcf = self.GCF()\n",
    "            self.numerator = int(self.numerator//gcf)\n",
    "            self.denominator = int(self.denominator//gcf)\n",
    "            if gcf == 1:\n",
    "                break\n",
    "        \n",
    "    def GCF(self):\n",
    "        lowervalue = min(abs(self.numerator),abs(self.denominator))\n",
    "        if lowervalue<2:\n",
    "            return 1\n",
    "        if abs(self.numerator)%10==0 and abs(self.denominator)%10==0:\n",
    "                return 10\n",
    "        for i in range(lowervalue,0,-1):\n",
    "            if abs(self.numerator)%i==0 and abs(self.denominator)%i==0:\n",
    "                return i\n",
    "    def __str__(self):\n",
    "        if self.denominator!=1:\n",
    "            return(str(self.numerator)+\"/\"+str(self.denominator))\n",
    "        else:\n",
    "            return(str(self.numerator))\n",
    "    def __float__(self):\n",
    "        return self.numerator/self.denominator\n",
    "print(\"done\")\n",
    "    \n"
   ]
  },
  {
   "cell_type": "markdown",
   "metadata": {},
   "source": [
    "Use your fraction class to find a what pacial sum that the harmonic series is greater than 3 what does the fraction look like, how many terms before it reaches past 3."
   ]
  },
  {
   "cell_type": "code",
   "execution_count": 239,
   "metadata": {},
   "outputs": [
    {
     "name": "stdout",
     "output_type": "stream",
     "text": [
      "12 83711/27720\n"
     ]
    }
   ],
   "source": [
    "i=1\n",
    "total = fraction(0,1)\n",
    "while float(total)<3.0:\n",
    "    total = total + fraction(1,i)\n",
    "    i+=1\n",
    "total.reduce()\n",
    "print(i,total)"
   ]
  },
  {
   "cell_type": "markdown",
   "metadata": {},
   "source": [
    "I don't know how to discribe this but it is cool"
   ]
  },
  {
   "cell_type": "code",
   "execution_count": null,
   "metadata": {
    "collapsed": true
   },
   "outputs": [],
   "source": [
    "harmonic = []\n",
    "Max = 1000\n",
    "total = fraction(0,1)\n",
    "target = fraction(8,5)\n",
    "posIndex = 0\n",
    "negIndex = 1\n",
    "steps = []\n",
    "values = \n",
    "for i in range(1,Max):\n",
    "    neg = (-1)**(i-1)\n",
    "    harmonic.append(fraction(neg,i))\n",
    "while posIndex<Max and negIndex<Max:\n",
    "    if float(total) < float(target):\n",
    "        steps = []\n",
    "        while float(total) < float(target) and posIndex < Max:\n",
    "            total = total+harmonic[posIndex]\n",
    "            steps.append(str(harmonic[posIndex]))\n",
    "            posIndex += 2\n",
    "        print(float(total),steps)\n",
    "        values.append(float(total))\n",
    "        \n",
    "    elif float(total) > float(target) and negIndex < Max:\n",
    "        steps = []\n",
    "        while float(total) > float(target):\n",
    "            total = total+harmonic[negIndex]\n",
    "            steps.append(str(harmonic[negIndex]))\n",
    "            negIndex += 2\n",
    "        print(float(total),steps)\n",
    "        values.append(float(total))\n",
    "print(float(total))"
   ]
  },
  {
   "cell_type": "markdown",
   "metadata": {},
   "source": [
    "Sum 1->N 1/2^n for vlaues of N = 1,2,3,4,5,6,7,8,9,10 what are the floats what are the fractions"
   ]
  },
  {
   "cell_type": "code",
   "execution_count": 245,
   "metadata": {
    "scrolled": false
   },
   "outputs": [
    {
     "name": "stdout",
     "output_type": "stream",
     "text": [
      "1/2 0.5\n",
      "3/4 0.75\n",
      "7/8 0.875\n",
      "15/16 0.9375\n",
      "31/32 0.96875\n",
      "63/64 0.984375\n",
      "127/128 0.9921875\n",
      "255/256 0.99609375\n",
      "511/512 0.998046875\n",
      "1023/1024 0.9990234375\n"
     ]
    }
   ],
   "source": [
    "\n",
    "total = fraction(0,1)\n",
    "for n in range(1,11):\n",
    "    total = total+fraction(1,2**n)\n",
    "    total.reduce()\n",
    "\n",
    "    print(total,float(total))"
   ]
  },
  {
   "cell_type": "markdown",
   "metadata": {},
   "source": [
    "making e go to this link https://en.wikipedia.org/wiki/List_of_representations_of_e to make a fraction of  e for  4 decimal places"
   ]
  },
  {
   "cell_type": "code",
   "execution_count": 246,
   "metadata": {},
   "outputs": [
    {
     "name": "stdout",
     "output_type": "stream",
     "text": [
      "2.75\n",
      "2.7222222222222223\n",
      "2.71875\n",
      "2.7183333333333333\n",
      "2.718287037037037\n",
      "2.71828231292517\n",
      "31967/11760\n",
      "31967/11760\n"
     ]
    }
   ],
   "source": [
    "def factorial(num):\n",
    "    end = 1\n",
    "    for i in range(1,num+1):\n",
    "        end =end*i\n",
    "    return end\n",
    "e=fraction(3,1)\n",
    "\n",
    "for i in range(2,8):\n",
    "    e=e+fraction(-1,factorial(i)*i*(i-1))\n",
    "    e.reduce()\n",
    "    print(float(e))\n",
    "    if float(e)<2.7181:\n",
    "        break\n",
    "print(e)\n",
    "e.reduce()\n",
    "print(e)\n",
    "    \n",
    "    \n",
    "#2.718281828459"
   ]
  },
  {
   "cell_type": "code",
   "execution_count": null,
   "metadata": {
    "collapsed": true
   },
   "outputs": [],
   "source": []
  }
 ],
 "metadata": {
  "kernelspec": {
   "display_name": "Python 3",
   "language": "python",
   "name": "python3"
  },
  "language_info": {
   "codemirror_mode": {
    "name": "ipython",
    "version": 3
   },
   "file_extension": ".py",
   "mimetype": "text/x-python",
   "name": "python",
   "nbconvert_exporter": "python",
   "pygments_lexer": "ipython3",
   "version": "3.6.1"
  }
 },
 "nbformat": 4,
 "nbformat_minor": 2
}