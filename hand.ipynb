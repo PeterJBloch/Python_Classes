{
 "cells": [
  {
   "cell_type": "markdown",
   "metadata": {},
   "source": [
    "lets make another class that uses that card class more effectivly than just a list we'll call it a hand, but first some import statments. import your class by just naming the file with out the py extention. use your two fuctions to get the list of ranks and suits. Finlay test making a card to make sure your function works"
   ]
  },
  {
   "cell_type": "code",
   "execution_count": 2,
   "metadata": {},
   "outputs": [
    {
     "name": "stdout",
     "output_type": "stream",
     "text": [
      "5♥\n"
     ]
    }
   ],
   "source": [
    "#will be left blank\n"
   ]
  },
  {
   "cell_type": "markdown",
   "metadata": {},
   "source": [
    "lets think about what the abilties of the class should be I have some ideas below. we will be making a few of them for sure but other that you have should also be added. make a block comment of what abilites and storage the hand class should have"
   ]
  },
  {
   "cell_type": "code",
   "execution_count": null,
   "metadata": {
    "collapsed": true
   },
   "outputs": [],
   "source": [
    "'''\n",
    "class hand \n",
    "holds a list of cards \n",
    "return suit distribution\n",
    "list of values\n",
    "put hands together esialy\n",
    "also sorting by rank and by suit\n",
    "remove cards by name index or by combarison\n",
    "'''\n",
    "\n",
    "\n"
   ]
  },
  {
   "cell_type": "markdown",
   "metadata": {},
   "source": [
    "Start the new class by making a init and tostr function. test using a random sample of 10 cards and printing. use the random choice and the two list you have in your card class."
   ]
  },
  {
   "cell_type": "code",
   "execution_count": null,
   "metadata": {},
   "outputs": [],
   "source": []
  },
  {
   "cell_type": "markdown",
   "metadata": {},
   "source": [
    "lets add the suit distribution and rank list function. for  the suits function return a dictionary keyed with the suit letter and returns the count. for the ranks return a list of all the ranks. again use a random sample of cards to test you functions"
   ]
  },
  {
   "cell_type": "code",
   "execution_count": null,
   "metadata": {},
   "outputs": [],
   "source": [
    "\n",
    "\n"
   ]
  },
  {
   "cell_type": "markdown",
   "metadata": {},
   "source": [
    "use the add key word to make a function to combind two hands "
   ]
  },
  {
   "cell_type": "code",
   "execution_count": 2,
   "metadata": {},
   "outputs": [],
   "source": [
    "\n",
    "def __add__():\n",
    "    pass"
   ]
  },
  {
   "cell_type": "markdown",
   "metadata": {},
   "source": [
    "lets make a sort function with a keyword paramater by = \"rank\" becuase cards can be compared it will sort esily with the sort method like any array. print before and after to prove you function works. "
   ]
  },
  {
   "cell_type": "code",
   "execution_count": null,
   "metadata": {},
   "outputs": [],
   "source": [
    "\n"
   ]
  },
  {
   "cell_type": "markdown",
   "metadata": {},
   "source": [
    "now add to you sort function an if by == \"suit\"  return the list first sorted by suit then by rank."
   ]
  },
  {
   "cell_type": "markdown",
   "metadata": {},
   "source": [
    "add a remove function to take out cards by index or by card comparison meaning you can type remove(1) or remove(cardObject)"
   ]
  },
  {
   "cell_type": "code",
   "execution_count": 40,
   "metadata": {},
   "outputs": [
    {
     "name": "stdout",
     "output_type": "stream",
     "text": [
      "A of ♣,4 of ♦,4 of ♦,6 of ♦,7 of ♠,8 of ♦,10 of ♠,Q of ♥,K of ♣,K of ♥\n",
      "A of ♣,6 of ♦,7 of ♠,8 of ♦,10 of ♠,Q of ♥,K of ♣,K of ♥\n"
     ]
    }
   ],
   "source": []
  },
  {
   "cell_type": "markdown",
   "metadata": {
    "collapsed": true
   },
   "source": [
    "Lets add this your card class it will be used in the next section"
   ]
  },
  {
   "cell_type": "code",
   "execution_count": null,
   "metadata": {
    "collapsed": true
   },
   "outputs": [],
   "source": [
    "#what should be moved to the file\n",
    "class hand():\n",
    "    def __init__(self,cards = None):\n",
    "        self.cards = [cards]\n",
    "        try:\n",
    "            if cards == None:\n",
    "                self.cards=[]\n",
    "        except:\n",
    "            pass\n",
    "        if isinstance(cards,list):\n",
    "            self.cards = cards\n",
    "        \n",
    "    def suits(self):\n",
    "        end ={}\n",
    "        for i in self.cards:\n",
    "            suit=i.getSuit()\n",
    "            if suit in end.keys():\n",
    "                end[suit]+=1\n",
    "            else:\n",
    "                end[suit]=1\n",
    "        return end\n",
    "    def ranks(self):\n",
    "        end =[]\n",
    "        for i in self.cards:\n",
    "            end.append(i.getRank())\n",
    "        return end\n",
    "    def sort(self,by=\"rank\"):\n",
    "        if by == \"rank\":\n",
    "            self.cards.sort()\n",
    "        elif by == \"suit\":\n",
    "            sorter = {}\n",
    "            for i in self.cards:\n",
    "                if i.getSuit() in sorter.keys():\n",
    "                    sorter[i.getSuit()].append(i)\n",
    "                else:\n",
    "                    sorter[i.getSuit()]=[i]\n",
    "            tempcards = []\n",
    "            for key,value in sorter.items():\n",
    "                value.sort()\n",
    "                tempcards=tempcards+value\n",
    "            self.cards=tempcards\n",
    "    \n",
    "    def __add__(self,other):\n",
    "        if isinstance(other,list)\n",
    "            return hand(self.cards+other.cards)\n",
    "        else:\n",
    "            end = self.cards[:]\n",
    "            end.append(other.cards)\n",
    "            return hand(end)\n",
    "    def remove(self,card):\n",
    "        if isinstance(card,int):\n",
    "            return self-hand(self.cards[card])\n",
    "        else:\n",
    "            return self-hand(card)\n",
    "    def __sub__(self,other):\n",
    "        end = []\n",
    "        for i in self.cards:\n",
    "            if i not in other.cards:\n",
    "                end.append(i)\n",
    "        return hand(end)\n",
    "        \n",
    "    def __str__(self):\n",
    "        end = []\n",
    "        for i in self.cards:\n",
    "            end.append(str(i))\n",
    "        return \",\".join(end)"
   ]
  }
 ],
 "metadata": {
  "kernelspec": {
   "display_name": "Python 3",
   "language": "python",
   "name": "python3"
  },
  "language_info": {
   "codemirror_mode": {
    "name": "ipython",
    "version": 3
   },
   "file_extension": ".py",
   "mimetype": "text/x-python",
   "name": "python",
   "nbconvert_exporter": "python",
   "pygments_lexer": "ipython3",
   "version": "3.6.1"
  }
 },
 "nbformat": 4,
 "nbformat_minor": 2
}
