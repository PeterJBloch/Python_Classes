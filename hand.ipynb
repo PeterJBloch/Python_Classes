{
 "cells": [
  {
   "cell_type": "markdown",
   "metadata": {},
   "source": [
    "lets make another class that uses that card class more effectivly than just a list we'll call it a hand first some import statments. import your class by just naming the file with out the py extention.use your two fuctions to get the list of ranks and suits. Finlay test making a card to make sure your function works"
   ]
  },
  {
   "cell_type": "code",
   "execution_count": 5,
   "metadata": {},
   "outputs": [
    {
     "name": "stdout",
     "output_type": "stream",
     "text": [
      "4 of ♥\n"
     ]
    }
   ],
   "source": [
    "import cardclass as C\n",
    "suits = C.getSuitToSym()\n",
    "ranks = C.getRankindex()\n",
    "d=C.card(ranks[3],list(suits.keys())[0])\n",
    "print(d)\n"
   ]
  },
  {
   "cell_type": "markdown",
   "metadata": {},
   "source": [
    "lets think about what the abilties of the class should be I have some ideas below."
   ]
  },
  {
   "cell_type": "code",
   "execution_count": null,
   "metadata": {
    "collapsed": true
   },
   "outputs": [],
   "source": [
    "'''\n",
    "class hand \n",
    "holds a list of cards \n",
    "return suit distribution\n",
    "list of values\n",
    "put hands together\n",
    "also sorting by rank and by suit\n",
    "remove cards by name index or my combarison\n",
    "'''\n",
    "\n",
    "\n"
   ]
  },
  {
   "cell_type": "markdown",
   "metadata": {},
   "source": [
    "Start the new class by making a init and tostr function. test using a random sample of 10 cards and printing. use the random choice and the two list you have in your card class."
   ]
  },
  {
   "cell_type": "code",
   "execution_count": 12,
   "metadata": {},
   "outputs": [
    {
     "name": "stdout",
     "output_type": "stream",
     "text": [
      "2 of ♠,6 of ♠,7 of ♣,2 of ♣,K of ♣,10 of ♦,9 of ♥,7 of ♥,7 of ♥,A of ♠\n"
     ]
    }
   ],
   "source": [
    "import random\n",
    "pile = []\n",
    "for i in range(10):\n",
    "    pile.append(C.card(random.choice(ranks),random.choice(list(suits.keys()))))\n",
    "\n",
    "class hand():\n",
    "    def __init__(self,cards = None):\n",
    "        self.cards = cards\n",
    "        if cards== None:\n",
    "            self.cards=[]\n",
    "    def __str__(self):\n",
    "        end = []\n",
    "        for i in self.cards:\n",
    "            end.append(str(i))\n",
    "        return \",\".join(end)\n",
    "print(hand(pile))"
   ]
  },
  {
   "cell_type": "markdown",
   "metadata": {},
   "source": [
    "lets add the suit distribution and rank list function. for  the suits function return a dictionary keyed with the suit letter and returns the count. for the ranks return a list of all the ranks."
   ]
  },
  {
   "cell_type": "code",
   "execution_count": 23,
   "metadata": {},
   "outputs": [
    {
     "name": "stdout",
     "output_type": "stream",
     "text": [
      "A of ♣,J of ♦,9 of ♦,8 of ♣,K of ♠,6 of ♦,J of ♠,8 of ♦,9 of ♣,3 of ♣,A of ♣,J of ♦,9 of ♦,8 of ♣,K of ♠,6 of ♦,J of ♠,8 of ♦,9 of ♣,3 of ♣\n",
      "['A', 'J', 9, 8, 'K', 6, 'J', 8, 9, 3]\n"
     ]
    }
   ],
   "source": [
    "\n",
    "\n",
    "pile = []\n",
    "for i in range(10):\n",
    "    pile.append(C.card(random.choice(ranks),random.choice(list(suits.keys()))))\n",
    "\n",
    "class hand():\n",
    "    def __init__(self,cards = None):\n",
    "        self.cards = cards\n",
    "        if cards== None:\n",
    "            self.cards=[]\n",
    "    def suits(self):\n",
    "        end ={}\n",
    "        for i in self.cards:\n",
    "            suit=i.getSuit()\n",
    "            if suit in end.keys():\n",
    "                end[suit]+=1\n",
    "            else:\n",
    "                end[suit]=1\n",
    "        return end\n",
    "    def ranks(self):\n",
    "        end =[]\n",
    "        for i in self.cards:\n",
    "            end.append(i.getRank())\n",
    "        return end\n",
    "    \n",
    "    def __str__(self):\n",
    "        end = []\n",
    "        for i in self.cards:\n",
    "            end.append(str(i))\n",
    "        return \",\".join(end)\n",
    "    \n",
    "\n",
    "d=hand(pile)\n",
    "print(d)\n",
    "print(d.ranks())"
   ]
  },
  {
   "cell_type": "markdown",
   "metadata": {},
   "source": [
    "use the add key word to make a function to combind two hands"
   ]
  },
  {
   "cell_type": "code",
   "execution_count": 24,
   "metadata": {},
   "outputs": [
    {
     "name": "stdout",
     "output_type": "stream",
     "text": [
      "7 of ♥,K of ♠,9 of ♠,5 of ♥,K of ♦,4 of ♠,Q of ♥,A of ♣,K of ♦,8 of ♥,7 of ♥,K of ♠,9 of ♠,5 of ♥,K of ♦,4 of ♠,Q of ♥,A of ♣,K of ♦,8 of ♥\n",
      "[7, 'K', 9, 5, 'K', 4, 'Q', 'A', 'K', 8]\n"
     ]
    }
   ],
   "source": [
    "\n",
    "pile = []\n",
    "for i in range(10):\n",
    "    pile.append(C.card(random.choice(ranks),random.choice(list(suits.keys()))))\n",
    "\n",
    "class hand():\n",
    "    def __init__(self,cards = None):\n",
    "        self.cards = cards\n",
    "        if cards== None:\n",
    "            self.cards=[]\n",
    "    def suits(self):\n",
    "        end ={}\n",
    "        for i in self.cards:\n",
    "            suit=i.getSuit()\n",
    "            if suit in end.keys():\n",
    "                end[suit]+=1\n",
    "            else:\n",
    "                end[suit]=1\n",
    "        return end\n",
    "    def ranks(self):\n",
    "        end =[]\n",
    "        for i in self.cards:\n",
    "            end.append(i.getRank())\n",
    "        return end\n",
    "    def __add__(self,other):\n",
    "        return hand(self.cards+other.cards)\n",
    "    def __str__(self):\n",
    "        end = []\n",
    "        for i in self.cards:\n",
    "            end.append(str(i))\n",
    "        return \",\".join(end)\n",
    "    \n",
    "\n",
    "d=hand(pile)\n",
    "print(d+d)\n",
    "print(d.ranks())"
   ]
  },
  {
   "cell_type": "markdown",
   "metadata": {},
   "source": [
    "lets make a sort function with  a keyword by = \"rank\" becuase cards can be compared it will sort esily with the sort method by "
   ]
  },
  {
   "cell_type": "code",
   "execution_count": 31,
   "metadata": {},
   "outputs": [
    {
     "name": "stdout",
     "output_type": "stream",
     "text": [
      "Q of ♣,6 of ♥,K of ♥,9 of ♠,K of ♥,J of ♣,2 of ♣,10 of ♠,7 of ♣,A of ♣\n",
      "A of ♣,2 of ♣,7 of ♣,J of ♣,Q of ♣,6 of ♥,K of ♥,K of ♥,9 of ♠,10 of ♠\n"
     ]
    }
   ],
   "source": [
    "\n",
    "pile = []\n",
    "for i in range(10):\n",
    "    pile.append(C.card(random.choice(ranks),random.choice(list(suits.keys()))))\n",
    "\n",
    "class hand():\n",
    "    def __init__(self,cards = None):\n",
    "        self.cards = cards\n",
    "        if cards== None:\n",
    "            self.cards=[]\n",
    "    def suits(self):\n",
    "        end ={}\n",
    "        for i in self.cards:\n",
    "            suit=i.getSuit()\n",
    "            if suit in end.keys():\n",
    "                end[suit]+=1\n",
    "            else:\n",
    "                end[suit]=1\n",
    "        return end\n",
    "    def ranks(self):\n",
    "        end =[]\n",
    "        for i in self.cards:\n",
    "            end.append(i.getRank())\n",
    "        return end\n",
    "    def sort(self,by=\"rank\"):\n",
    "        if by == \"rank\":\n",
    "            self.cards.sort()\n",
    "        elif by == \"suit\":\n",
    "            sorter = {}\n",
    "            for i in self.cards:\n",
    "                if i.getSuit() in sorter.keys():\n",
    "                    sorter[i.getSuit()].append(i)\n",
    "                else:\n",
    "                    sorter[i.getSuit()]=[i]\n",
    "            tempcards = []\n",
    "            for key,value in sorter.items():\n",
    "                value.sort()\n",
    "                tempcards=tempcards+value\n",
    "            self.cards=tempcards\n",
    "    def __add__(self,other):\n",
    "        return hand(self.cards+other.cards)\n",
    "    def __str__(self):\n",
    "        end = []\n",
    "        for i in self.cards:\n",
    "            end.append(str(i))\n",
    "        return \",\".join(end)\n",
    "    \n",
    "\n",
    "d=hand(pile)\n",
    "print(d)\n",
    "d.sort(by=\"suit\")\n",
    "print(d)\n"
   ]
  },
  {
   "cell_type": "markdown",
   "metadata": {},
   "source": [
    "add a remove function to take out cards by index or by card comparison"
   ]
  },
  {
   "cell_type": "code",
   "execution_count": 40,
   "metadata": {},
   "outputs": [
    {
     "name": "stdout",
     "output_type": "stream",
     "text": [
      "A of ♣,4 of ♦,4 of ♦,6 of ♦,7 of ♠,8 of ♦,10 of ♠,Q of ♥,K of ♣,K of ♥\n",
      "A of ♣,6 of ♦,7 of ♠,8 of ♦,10 of ♠,Q of ♥,K of ♣,K of ♥\n"
     ]
    }
   ],
   "source": [
    "pile = []\n",
    "for i in range(10):\n",
    "    pile.append(C.card(random.choice(ranks),random.choice(list(suits.keys()))))\n",
    "\n",
    "class hand():\n",
    "    def __init__(self,cards = None):\n",
    "        self.cards = [cards]\n",
    "        try:\n",
    "            if cards == None:\n",
    "                self.cards=[]\n",
    "        except:\n",
    "            pass\n",
    "        if isinstance(cards,list):\n",
    "            self.cards = cards\n",
    "        \n",
    "    def suits(self):\n",
    "        end ={}\n",
    "        for i in self.cards:\n",
    "            suit=i.getSuit()\n",
    "            if suit in end.keys():\n",
    "                end[suit]+=1\n",
    "            else:\n",
    "                end[suit]=1\n",
    "        return end\n",
    "    def ranks(self):\n",
    "        end =[]\n",
    "        for i in self.cards:\n",
    "            end.append(i.getRank())\n",
    "        return end\n",
    "    def sort(self,by=\"rank\"):\n",
    "        if by == \"rank\":\n",
    "            self.cards.sort()\n",
    "        elif by == \"suit\":\n",
    "            sorter = {}\n",
    "            for i in self.cards:\n",
    "                if i.getSuit() in sorter.keys():\n",
    "                    sorter[i.getSuit()].append(i)\n",
    "                else:\n",
    "                    sorter[i.getSuit()]=[i]\n",
    "            tempcards = []\n",
    "            for key,value in sorter.items():\n",
    "                value.sort()\n",
    "                tempcards=tempcards+value\n",
    "            self.cards=tempcards\n",
    "    \n",
    "    def __add__(self,other):\n",
    "        return hand(self.cards+other.cards)\n",
    "    def remove(self,card):\n",
    "        if isinstance(card,int):\n",
    "            return self-hand(self.cards[card])\n",
    "        else:\n",
    "            return self-hand(card)\n",
    "    def __sub__(self,other):\n",
    "        end = []\n",
    "        for i in self.cards:\n",
    "            if i not in other.cards:\n",
    "                end.append(i)\n",
    "        return hand(end)\n",
    "        \n",
    "    def __str__(self):\n",
    "        end = []\n",
    "        for i in self.cards:\n",
    "            end.append(str(i))\n",
    "        return \",\".join(end)\n",
    "    \n",
    "\n",
    "d=hand(pile)\n",
    "d.sort()\n",
    "print(d)\n",
    "print(d.remove(1))\n"
   ]
  },
  {
   "cell_type": "code",
   "execution_count": null,
   "metadata": {
    "collapsed": true
   },
   "outputs": [],
   "source": []
  },
  {
   "cell_type": "code",
   "execution_count": null,
   "metadata": {
    "collapsed": true
   },
   "outputs": [],
   "source": [
    "#what should be moved to the pile\n",
    "class hand():\n",
    "    def __init__(self,cards = None):\n",
    "        self.cards = [cards]\n",
    "        try:\n",
    "            if cards == None:\n",
    "                self.cards=[]\n",
    "        except:\n",
    "            pass\n",
    "        if isinstance(cards,list):\n",
    "            self.cards = cards\n",
    "        \n",
    "    def suits(self):\n",
    "        end ={}\n",
    "        for i in self.cards:\n",
    "            suit=i.getSuit()\n",
    "            if suit in end.keys():\n",
    "                end[suit]+=1\n",
    "            else:\n",
    "                end[suit]=1\n",
    "        return end\n",
    "    def ranks(self):\n",
    "        end =[]\n",
    "        for i in self.cards:\n",
    "            end.append(i.getRank())\n",
    "        return end\n",
    "    def sort(self,by=\"rank\"):\n",
    "        if by == \"rank\":\n",
    "            self.cards.sort()\n",
    "        elif by == \"suit\":\n",
    "            sorter = {}\n",
    "            for i in self.cards:\n",
    "                if i.getSuit() in sorter.keys():\n",
    "                    sorter[i.getSuit()].append(i)\n",
    "                else:\n",
    "                    sorter[i.getSuit()]=[i]\n",
    "            tempcards = []\n",
    "            for key,value in sorter.items():\n",
    "                value.sort()\n",
    "                tempcards=tempcards+value\n",
    "            self.cards=tempcards\n",
    "    \n",
    "    def __add__(self,other):\n",
    "        return hand(self.cards+other.cards)\n",
    "    def remove(self,card):\n",
    "        if isinstance(card,int):\n",
    "            return self-hand(self.cards[card])\n",
    "        else:\n",
    "            return self-hand(card)\n",
    "    def __sub__(self,other):\n",
    "        end = []\n",
    "        for i in self.cards:\n",
    "            if i not in other.cards:\n",
    "                end.append(i)\n",
    "        return hand(end)\n",
    "        \n",
    "    def __str__(self):\n",
    "        end = []\n",
    "        for i in self.cards:\n",
    "            end.append(str(i))\n",
    "        return \",\".join(end)"
   ]
  }
 ],
 "metadata": {
  "kernelspec": {
   "display_name": "Python 3",
   "language": "python",
   "name": "python3"
  },
  "language_info": {
   "codemirror_mode": {
    "name": "ipython",
    "version": 3
   },
   "file_extension": ".py",
   "mimetype": "text/x-python",
   "name": "python",
   "nbconvert_exporter": "python",
   "pygments_lexer": "ipython3",
   "version": "3.6.1"
  }
 },
 "nbformat": 4,
 "nbformat_minor": 2
}
