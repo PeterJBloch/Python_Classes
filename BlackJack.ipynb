{
 "cells": [
  {
   "cell_type": "markdown",
   "metadata": {},
   "source": [
    "Making a game of black jack start by importing you classes and testing to make sure they work"
   ]
  },
  {
   "cell_type": "code",
   "execution_count": 14,
   "metadata": {},
   "outputs": [
    {
     "name": "stdout",
     "output_type": "stream",
     "text": [
      "7♥\n"
     ]
    }
   ],
   "source": [
    "import cardclasses as C\n",
    "suitToSym = C.getSuitToSym()\n",
    "Rankindex = C.getRankindex()\n",
    "d=C.card(Rankindex[5],list(suitToSym.keys())[0])  \n",
    "print(d)"
   ]
  },
  {
   "cell_type": "markdown",
   "metadata": {},
   "source": [
    "Make a black jack hand that is a subclass of hand. makesure you pass the cards variable into the super statment"
   ]
  },
  {
   "cell_type": "code",
   "execution_count": 9,
   "metadata": {},
   "outputs": [
    {
     "name": "stdout",
     "output_type": "stream",
     "text": [
      "6♣,8♥,8♥,8♦,J♠,8♦,A♠,2♣,8♣,6♣\n"
     ]
    }
   ],
   "source": []
  },
  {
   "cell_type": "markdown",
   "metadata": {},
   "source": [
    "inorder to make a this class usefull we need to add more capabilties so that it is esaier to use. by makeing a fuction that only returns the string of the first card so we can print the dealers hand with out giving a way his other card"
   ]
  },
  {
   "cell_type": "code",
   "execution_count": null,
   "metadata": {
    "collapsed": true
   },
   "outputs": [],
   "source": []
  },
  {
   "cell_type": "markdown",
   "metadata": {},
   "source": [
    "now lets add a function evaluate thats the point value of the hand. look up the rules of black jack if you are unsure. how can you tell face and number cards apart? how will you keep track of the ace? what if the number is above 21?"
   ]
  },
  {
   "cell_type": "code",
   "execution_count": 19,
   "metadata": {},
   "outputs": [
    {
     "name": "stdout",
     "output_type": "stream",
     "text": [
      "A♠,3♦,K♣\n",
      "A\n",
      "3\n",
      "K\n",
      "14\n",
      "\n",
      "7♠,4♣,6♠\n",
      "7\n",
      "4\n",
      "6\n",
      "17\n",
      "v\n"
     ]
    }
   ],
   "source": []
  },
  {
   "cell_type": "markdown",
   "metadata": {},
   "source": [
    "add comparison fuctions like in the card class to compare hands of black jack by calling the evaluate function. make a quick test program to make two random hands and compare."
   ]
  },
  {
   "cell_type": "code",
   "execution_count": 20,
   "metadata": {},
   "outputs": [
    {
     "name": "stdout",
     "output_type": "stream",
     "text": [
      "9♣,8♠,6♣ -1\n",
      "5♦,10♥,7♥ -1\n",
      "player1 loses: False\n",
      "player1 ties: True\n",
      "player1 wins: False\n",
      "\n",
      "3♣,3♣,8♠ 14\n",
      "2♥,3♥,10♠ 15\n",
      "player1 loses: True\n",
      "player1 ties: False\n",
      "player1 wins: False\n",
      "\n",
      "8♠,6♣,8♦ -1\n",
      "7♠,J♣,7♠ -1\n",
      "player1 loses: False\n",
      "player1 ties: True\n",
      "player1 wins: False\n",
      "\n",
      "2♥,9♠,A♥ 12\n",
      "K♠,A♣,8♣ 19\n",
      "player1 loses: True\n",
      "player1 ties: False\n",
      "player1 wins: False\n",
      "\n",
      "7♣,9♠,8♣ -1\n",
      "A♣,9♠,Q♦ 20\n",
      "player1 loses: True\n",
      "player1 ties: False\n",
      "player1 wins: False\n",
      "\n",
      "2♣,7♣,4♠ 13\n",
      "10♥,7♥,A♣ 18\n",
      "player1 loses: True\n",
      "player1 ties: False\n",
      "player1 wins: False\n",
      "\n",
      "10♣,3♥,8♥ 21\n",
      "A♦,K♥,2♠ 13\n",
      "player1 loses: False\n",
      "player1 ties: False\n",
      "player1 wins: True\n"
     ]
    },
    {
     "ename": "KeyboardInterrupt",
     "evalue": "",
     "output_type": "error",
     "traceback": [
      "\u001b[0;31m---------------------------------------------------------------------------\u001b[0m",
      "\u001b[0;31mKeyboardInterrupt\u001b[0m                         Traceback (most recent call last)",
      "\u001b[0;32m/anaconda/lib/python3.6/site-packages/ipykernel/kernelbase.py\u001b[0m in \u001b[0;36m_input_request\u001b[0;34m(self, prompt, ident, parent, password)\u001b[0m\n\u001b[1;32m    729\u001b[0m             \u001b[0;32mtry\u001b[0m\u001b[0;34m:\u001b[0m\u001b[0;34m\u001b[0m\u001b[0m\n\u001b[0;32m--> 730\u001b[0;31m                 \u001b[0mident\u001b[0m\u001b[0;34m,\u001b[0m \u001b[0mreply\u001b[0m \u001b[0;34m=\u001b[0m \u001b[0mself\u001b[0m\u001b[0;34m.\u001b[0m\u001b[0msession\u001b[0m\u001b[0;34m.\u001b[0m\u001b[0mrecv\u001b[0m\u001b[0;34m(\u001b[0m\u001b[0mself\u001b[0m\u001b[0;34m.\u001b[0m\u001b[0mstdin_socket\u001b[0m\u001b[0;34m,\u001b[0m \u001b[0;36m0\u001b[0m\u001b[0;34m)\u001b[0m\u001b[0;34m\u001b[0m\u001b[0m\n\u001b[0m\u001b[1;32m    731\u001b[0m             \u001b[0;32mexcept\u001b[0m \u001b[0mException\u001b[0m\u001b[0;34m:\u001b[0m\u001b[0;34m\u001b[0m\u001b[0m\n",
      "\u001b[0;32m/anaconda/lib/python3.6/site-packages/jupyter_client/session.py\u001b[0m in \u001b[0;36mrecv\u001b[0;34m(self, socket, mode, content, copy)\u001b[0m\n\u001b[1;32m    777\u001b[0m         \u001b[0;32mtry\u001b[0m\u001b[0;34m:\u001b[0m\u001b[0;34m\u001b[0m\u001b[0m\n\u001b[0;32m--> 778\u001b[0;31m             \u001b[0mmsg_list\u001b[0m \u001b[0;34m=\u001b[0m \u001b[0msocket\u001b[0m\u001b[0;34m.\u001b[0m\u001b[0mrecv_multipart\u001b[0m\u001b[0;34m(\u001b[0m\u001b[0mmode\u001b[0m\u001b[0;34m,\u001b[0m \u001b[0mcopy\u001b[0m\u001b[0;34m=\u001b[0m\u001b[0mcopy\u001b[0m\u001b[0;34m)\u001b[0m\u001b[0;34m\u001b[0m\u001b[0m\n\u001b[0m\u001b[1;32m    779\u001b[0m         \u001b[0;32mexcept\u001b[0m \u001b[0mzmq\u001b[0m\u001b[0;34m.\u001b[0m\u001b[0mZMQError\u001b[0m \u001b[0;32mas\u001b[0m \u001b[0me\u001b[0m\u001b[0;34m:\u001b[0m\u001b[0;34m\u001b[0m\u001b[0m\n",
      "\u001b[0;32m/anaconda/lib/python3.6/site-packages/zmq/sugar/socket.py\u001b[0m in \u001b[0;36mrecv_multipart\u001b[0;34m(self, flags, copy, track)\u001b[0m\n\u001b[1;32m    394\u001b[0m         \"\"\"\n\u001b[0;32m--> 395\u001b[0;31m         \u001b[0mparts\u001b[0m \u001b[0;34m=\u001b[0m \u001b[0;34m[\u001b[0m\u001b[0mself\u001b[0m\u001b[0;34m.\u001b[0m\u001b[0mrecv\u001b[0m\u001b[0;34m(\u001b[0m\u001b[0mflags\u001b[0m\u001b[0;34m,\u001b[0m \u001b[0mcopy\u001b[0m\u001b[0;34m=\u001b[0m\u001b[0mcopy\u001b[0m\u001b[0;34m,\u001b[0m \u001b[0mtrack\u001b[0m\u001b[0;34m=\u001b[0m\u001b[0mtrack\u001b[0m\u001b[0;34m)\u001b[0m\u001b[0;34m]\u001b[0m\u001b[0;34m\u001b[0m\u001b[0m\n\u001b[0m\u001b[1;32m    396\u001b[0m         \u001b[0;31m# have first part already, only loop while more to receive\u001b[0m\u001b[0;34m\u001b[0m\u001b[0;34m\u001b[0m\u001b[0m\n",
      "\u001b[0;32mzmq/backend/cython/socket.pyx\u001b[0m in \u001b[0;36mzmq.backend.cython.socket.Socket.recv (zmq/backend/cython/socket.c:7683)\u001b[0;34m()\u001b[0m\n",
      "\u001b[0;32mzmq/backend/cython/socket.pyx\u001b[0m in \u001b[0;36mzmq.backend.cython.socket.Socket.recv (zmq/backend/cython/socket.c:7460)\u001b[0;34m()\u001b[0m\n",
      "\u001b[0;32mzmq/backend/cython/socket.pyx\u001b[0m in \u001b[0;36mzmq.backend.cython.socket._recv_copy (zmq/backend/cython/socket.c:2344)\u001b[0;34m()\u001b[0m\n",
      "\u001b[0;32m/anaconda/lib/python3.6/site-packages/zmq/backend/cython/checkrc.pxd\u001b[0m in \u001b[0;36mzmq.backend.cython.checkrc._check_rc (zmq/backend/cython/socket.c:9621)\u001b[0;34m()\u001b[0m\n",
      "\u001b[0;31mKeyboardInterrupt\u001b[0m: ",
      "\nDuring handling of the above exception, another exception occurred:\n",
      "\u001b[0;31mKeyboardInterrupt\u001b[0m                         Traceback (most recent call last)",
      "\u001b[0;32m<ipython-input-20-46c5a923cc91>\u001b[0m in \u001b[0;36m<module>\u001b[0;34m()\u001b[0m\n\u001b[1;32m     54\u001b[0m     \u001b[0mprint\u001b[0m\u001b[0;34m(\u001b[0m\u001b[0;34m\"player1 wins:\"\u001b[0m\u001b[0;34m,\u001b[0m\u001b[0mhand1\u001b[0m\u001b[0;34m>\u001b[0m\u001b[0mhand2\u001b[0m\u001b[0;34m)\u001b[0m\u001b[0;34m\u001b[0m\u001b[0m\n\u001b[1;32m     55\u001b[0m \u001b[0;34m\u001b[0m\u001b[0m\n\u001b[0;32m---> 56\u001b[0;31m     \u001b[0muser\u001b[0m\u001b[0;34m=\u001b[0m\u001b[0minput\u001b[0m\u001b[0;34m(\u001b[0m\u001b[0;34m)\u001b[0m\u001b[0;34m\u001b[0m\u001b[0m\n\u001b[0m",
      "\u001b[0;32m/anaconda/lib/python3.6/site-packages/ipykernel/kernelbase.py\u001b[0m in \u001b[0;36mraw_input\u001b[0;34m(self, prompt)\u001b[0m\n\u001b[1;32m    703\u001b[0m             \u001b[0mself\u001b[0m\u001b[0;34m.\u001b[0m\u001b[0m_parent_ident\u001b[0m\u001b[0;34m,\u001b[0m\u001b[0;34m\u001b[0m\u001b[0m\n\u001b[1;32m    704\u001b[0m             \u001b[0mself\u001b[0m\u001b[0;34m.\u001b[0m\u001b[0m_parent_header\u001b[0m\u001b[0;34m,\u001b[0m\u001b[0;34m\u001b[0m\u001b[0m\n\u001b[0;32m--> 705\u001b[0;31m             \u001b[0mpassword\u001b[0m\u001b[0;34m=\u001b[0m\u001b[0;32mFalse\u001b[0m\u001b[0;34m,\u001b[0m\u001b[0;34m\u001b[0m\u001b[0m\n\u001b[0m\u001b[1;32m    706\u001b[0m         )\n\u001b[1;32m    707\u001b[0m \u001b[0;34m\u001b[0m\u001b[0m\n",
      "\u001b[0;32m/anaconda/lib/python3.6/site-packages/ipykernel/kernelbase.py\u001b[0m in \u001b[0;36m_input_request\u001b[0;34m(self, prompt, ident, parent, password)\u001b[0m\n\u001b[1;32m    733\u001b[0m             \u001b[0;32mexcept\u001b[0m \u001b[0mKeyboardInterrupt\u001b[0m\u001b[0;34m:\u001b[0m\u001b[0;34m\u001b[0m\u001b[0m\n\u001b[1;32m    734\u001b[0m                 \u001b[0;31m# re-raise KeyboardInterrupt, to truncate traceback\u001b[0m\u001b[0;34m\u001b[0m\u001b[0;34m\u001b[0m\u001b[0m\n\u001b[0;32m--> 735\u001b[0;31m                 \u001b[0;32mraise\u001b[0m \u001b[0mKeyboardInterrupt\u001b[0m\u001b[0;34m\u001b[0m\u001b[0m\n\u001b[0m\u001b[1;32m    736\u001b[0m             \u001b[0;32melse\u001b[0m\u001b[0;34m:\u001b[0m\u001b[0;34m\u001b[0m\u001b[0m\n\u001b[1;32m    737\u001b[0m                 \u001b[0;32mbreak\u001b[0m\u001b[0;34m\u001b[0m\u001b[0m\n",
      "\u001b[0;31mKeyboardInterrupt\u001b[0m: "
     ]
    }
   ],
   "source": [
    "#what it should look like\n",
    "class blackjackHand(C.hand):\n",
    "    def __init__(self,cards):\n",
    "        super().__init__(cards)\n",
    "    def evaluate(self):\n",
    "        handValue = 0\n",
    "        aces = 0\n",
    "        cardValues=super().ranks()\n",
    "        \n",
    "        for i in cardValues:\n",
    "            if isinstance(i,int):\n",
    "                #print(i)\n",
    "                handValue+=i     \n",
    "            if isinstance(i,str):\n",
    "                #print(i)\n",
    "                if i==\"A\":\n",
    "                    handValue+=11\n",
    "                    aces+=1\n",
    "                else:\n",
    "                    handValue+=10\n",
    "        while aces>0 and handValue>21:\n",
    "            handValue-=10\n",
    "            aces-=1\n",
    "        if handValue>21:\n",
    "            handValue=-1\n",
    "        return handValue\n",
    "    def __gt__(self,other):\n",
    "        return self.evaluate()>other.evaluate()\n",
    "    def __lt__(self,other):\n",
    "        return self.evaluate()<other.evaluate()\n",
    "    def __eq__(self,other):\n",
    "        return self.evaluate()==other.evaluate()\n",
    "    \n",
    "                \n",
    "    \n",
    "\n",
    "        \n",
    "\n",
    "import random\n",
    "user = \"\"\n",
    "while user == \"\":\n",
    "    pile = []\n",
    "    for i in range(3):\n",
    "        pile.append(C.card(random.choice(Rankindex),random.choice(list(suitToSym.keys()))))\n",
    "    hand1 = blackjackHand(pile)\n",
    "    \n",
    "    pile = []\n",
    "    for i in range(3):\n",
    "        pile.append(C.card(random.choice(Rankindex),random.choice(list(suitToSym.keys()))))\n",
    "    hand2 = blackjackHand(pile)\n",
    "    print(hand1,hand1.evaluate())\n",
    "    print(hand2,hand2.evaluate())\n",
    "    print(\"player1 loses:\",hand1<hand2)\n",
    "    print(\"player1 ties:\",hand1==hand2)\n",
    "    print(\"player1 wins:\",hand1>hand2) \n",
    "    \n",
    "    \n",
    "    user=input()"
   ]
  },
  {
   "cell_type": "markdown",
   "metadata": {
    "collapsed": true
   },
   "source": [
    "add an append function that adds a card to the hand"
   ]
  },
  {
   "cell_type": "code",
   "execution_count": null,
   "metadata": {
    "collapsed": true
   },
   "outputs": [],
   "source": []
  },
  {
   "cell_type": "markdown",
   "metadata": {},
   "source": [
    "think about the order of events in round and games of black jack write a method in block comment bellow."
   ]
  },
  {
   "cell_type": "code",
   "execution_count": null,
   "metadata": {
    "collapsed": true
   },
   "outputs": [],
   "source": []
  },
  {
   "cell_type": "markdown",
   "metadata": {},
   "source": [
    "method for black jack"
   ]
  },
  {
   "cell_type": "code",
   "execution_count": 3,
   "metadata": {},
   "outputs": [
    {
     "name": "stdout",
     "output_type": "stream",
     "text": [
      "done\n",
      "your money: 100\n",
      "how much would you like to bet10\n",
      "dealer: 2♥\n",
      "you: 3♥,4♥\n",
      "dealer: 2♥\n",
      "you: 3♥,4♥\n",
      "would you like a card[y/n]n\n",
      "dealer: 2♥,5♥\n",
      "you: 3♥,4♥\n",
      "dealer: 2♥,5♥,6♥\n",
      "you: 3♥,4♥\n",
      "results\n",
      "dealer: 2♥,5♥,6♥,7♥ 20\n",
      "you: 3♥,4♥ 7\n",
      "player loses\n",
      "your money: 90\n",
      "how much would you like to bet-1\n"
     ]
    }
   ],
   "source": [
    "import cardclasses as C\n",
    "suitToSym = C.getSuitToSym()\n",
    "Rankindex = C.getRankindex()\n",
    "\n",
    "class blackjackHand(C.hand):\n",
    "    def __init__(self,cards):\n",
    "        super().__init__(cards)\n",
    "    def evaluate(self):\n",
    "        handValue = 0\n",
    "        aces = 0\n",
    "        cardValues=super().ranks()\n",
    "        \n",
    "        for i in cardValues:\n",
    "            if isinstance(i,int):\n",
    "                #print(i)\n",
    "                handValue+=i     \n",
    "            if isinstance(i,str):\n",
    "                #print(i)\n",
    "                if i==\"A\":\n",
    "                    handValue+=11\n",
    "                    aces+=1\n",
    "                else:\n",
    "                    handValue+=10\n",
    "        while aces>0 and handValue>21:\n",
    "            handValue-=10\n",
    "            aces-=1\n",
    "        if handValue>21:\n",
    "            handValue=-1\n",
    "        return handValue\n",
    "    def append(self,card):\n",
    "        self.cards.append(card)\n",
    "    def __gt__(self,other):\n",
    "        return self.evaluate()>other.evaluate()\n",
    "    def __lt__(self,other):\n",
    "        return self.evaluate()<other.evaluate()\n",
    "    def __eq__(self,other):\n",
    "        return self.evaluate()==other.evaluate()\n",
    "def makedeck():\n",
    "    deck = []\n",
    "    for s in range(len(list(suitToSym.keys()))):\n",
    "        for r in range(len(Rankindex)):\n",
    "            d=C.card(Rankindex[r],list(suitToSym.keys())[s])\n",
    "            deck.append(d)\n",
    "    print(\"done\")\n",
    "    return deck\n",
    "deck=makedeck()\n",
    "#shuffle\n",
    "money=100\n",
    "while money>0:\n",
    "    done = True\n",
    "    print(\"your money:\",money)\n",
    "    while done:\n",
    "        try:\n",
    "            bet = int(input(\"how much would you like to bet\"))\n",
    "            done=False\n",
    "            money=money-bet\n",
    "            if bet<0:\n",
    "                money = -1\n",
    "        except:\n",
    "            \n",
    "            pass\n",
    "    if money<0:\n",
    "        break\n",
    "    dealer = blackjackHand(None)\n",
    "    player = blackjackHand(None)\n",
    "    \n",
    "    dealer.append(deck.pop(0))\n",
    "    player.append(deck.pop(0))\n",
    "    player.append(deck.pop(0))\n",
    "    \n",
    "    print('dealer:',dealer)\n",
    "    print('you:',player)\n",
    "    #\n",
    "    choice = \"u\"\n",
    "    while choice != 'n':\n",
    "        try:\n",
    "            print('dealer:',dealer)\n",
    "            print('you:',player)\n",
    "            choice = input('would you like a card[y/n]')[0]\n",
    "            if choice == 'y':\n",
    "                player.append(deck.pop(0))\n",
    "        except:\n",
    "            print(\"try again\")\n",
    "    dealer.append(deck.pop(0))\n",
    "    while dealer.evaluate()<17:\n",
    "        print('dealer:',dealer)\n",
    "        print('you:   ',player)\n",
    "        dealer.append(deck.pop(0))\n",
    "    \n",
    "    print(\"results\")\n",
    "    print('dealer:',dealer,dealer.evaluate())\n",
    "    print('you:',player,player.evaluate())\n",
    "    if (player>dealer):\n",
    "        print(\"player Wins\")\n",
    "        money+=2*bet\n",
    "    elif player==dealer:\n",
    "        print(\"player ties\")\n",
    "        money+=bet\n",
    "    else:\n",
    "        print(\"player loses\")\n",
    "    \n",
    "    "
   ]
  },
  {
   "cell_type": "markdown",
   "metadata": {},
   "source": [
    "fallow the above steps to make a game of black jack."
   ]
  },
  {
   "cell_type": "markdown",
   "metadata": {},
   "source": [
    "a new sub class poker hand"
   ]
  },
  {
   "cell_type": "code",
   "execution_count": 28,
   "metadata": {},
   "outputs": [
    {
     "name": "stdout",
     "output_type": "stream",
     "text": [
      "8♥,7♥,7♥,7♥,7♥\n",
      "5\n",
      "5 5\n",
      "no\n",
      "stright: False\n",
      "flush: 8\n",
      "singles: [8]\n",
      "pairs: False\n",
      "three: False\n",
      "four: [7]\n",
      " \n"
     ]
    }
   ],
   "source": [
    "Rankindex=C.getRankindex()\n",
    "class pockerHand(C.hand):\n",
    "    def __init__(self,cards):\n",
    "        super().__init__(cards)\n",
    "    def stright(self):\n",
    "        cardRanks=super().ranks()\n",
    "        cardsValues=[]\n",
    "        for i in cardRanks:\n",
    "            cardsValues.append(Rankindex.index(i))\n",
    "        cardsValues.sort()\n",
    "        stright=True\n",
    "        print(len(cardsValues))\n",
    "        for i in range(len(cardsValues)-1):\n",
    "            print(cardsValues[i],cardsValues[i+1])\n",
    "            if (cardsValues[i]!=cardsValues[i+1]-1):\n",
    "                print(\"no\")\n",
    "                stright=False\n",
    "                break\n",
    "        if stright == False:\n",
    "            return stright\n",
    "        else:\n",
    "            return Rankindex[cardsValues[-1]]\n",
    "    def flush(self):\n",
    "        suit = super().suits()\n",
    "        for k,v in suit.items():\n",
    "            if v>4:\n",
    "                cardRanks=super().ranks()\n",
    "                cardRanks.sort()\n",
    "                return cardRanks[-1]\n",
    "        else:\n",
    "            return False \n",
    "        return False\n",
    "    def matches(self,num):\n",
    "        end = []\n",
    "        cardRanks=super().ranks()\n",
    "        difcards = set(cardRanks)\n",
    "        for i in difcards:\n",
    "            if cardRanks.count(i) == num:\n",
    "                end.append(i)\n",
    "        if len(end)==0:\n",
    "            return False\n",
    "        else:\n",
    "            return end\n",
    "        \n",
    "        \n",
    "    def __gt__(self,other):\n",
    "        return self.evaluate()>other.evaluate()\n",
    "    def __lt__(self,other):\n",
    "        return self.evaluate()<other.evaluate()\n",
    "    def __eq__(self,other):\n",
    "        return self.evaluate()==other.evaluate()\n",
    "    \n",
    "\n",
    "import random\n",
    "user = \"\"\n",
    "while user == \"\":\n",
    "    pile = [C.card(Rankindex[6],list(suitToSym.keys())[0])]\n",
    "    pile.append(C.card(Rankindex[5],list(suitToSym.keys())[0]))\n",
    "    pile.append(C.card(Rankindex[5],list(suitToSym.keys())[0]))\n",
    "    pile.append(C.card(Rankindex[5],list(suitToSym.keys())[0]))\n",
    "    pile.append(C.card(Rankindex[5],list(suitToSym.keys())[0]))\n",
    "    print(pockerHand(pile))\n",
    "    print(\"stright:\",pockerHand(pile).stright())\n",
    "    print(\"flush:\",pockerHand(pile).flush())\n",
    "    print(\"singles:\",pockerHand(pile).matches(1))\n",
    "    print(\"pairs:\",pockerHand(pile).matches(2))\n",
    "    print(\"three:\",pockerHand(pile).matches(3))\n",
    "    print(\"four:\",pockerHand(pile).matches(4))\n",
    "    user=input()"
   ]
  },
  {
   "cell_type": "code",
   "execution_count": null,
   "metadata": {
    "collapsed": true
   },
   "outputs": [],
   "source": [
    "Rankindex=C.getRankindex()\n",
    "class pockerHand(C.hand):\n",
    "    def __init__(self,cards):\n",
    "        super().__init__(cards)\n",
    "    def stright(self):\n",
    "        cardRanks=super().ranks()\n",
    "        cardsValues=[]\n",
    "        for i in cardRanks:\n",
    "            cardsValues.append(Rankindex.index(i))\n",
    "        cardsValues.sort()\n",
    "        stright=True\n",
    "        print(len(cardsValues))\n",
    "        for i in range(len(cardsValues)-1):\n",
    "            print(cardsValues[i],cardsValues[i+1])\n",
    "            if (cardsValues[i]!=cardsValues[i+1]-1):\n",
    "                print(\"no\")\n",
    "                stright=False\n",
    "                break\n",
    "        if stright == False:\n",
    "            return stright\n",
    "        else:\n",
    "            return Rankindex[cardsValues[-1]]\n",
    "    def flush(self):\n",
    "        suit = super().suits()\n",
    "        for k,v in suit.items():\n",
    "            if v>4:\n",
    "                cardRanks=super().ranks()\n",
    "                cardRanks.sort()\n",
    "                return cardRanks[-1]\n",
    "        else:\n",
    "            return False \n",
    "        return False\n",
    "    def matches(self,num):\n",
    "        end = []\n",
    "        cardRanks=super().ranks()\n",
    "        difcards = set(cardRanks)\n",
    "        for i in difcards:\n",
    "            if cardRanks.count(i) == num:\n",
    "                end.append(i)\n",
    "        if len(end)==0:\n",
    "            return False\n",
    "        else:\n",
    "            return end\n",
    "    def __gt__(self,other):\n",
    "        return self.evaluate()>other.evaluate()\n",
    "    def __lt__(self,other):\n",
    "        return self.evaluate()<other.evaluate()\n",
    "    def __eq__(self,other):\n",
    "        return self.evaluate()==other.evaluate()"
   ]
  }
 ],
 "metadata": {
  "kernelspec": {
   "display_name": "Python 3",
   "language": "python",
   "name": "python3"
  },
  "language_info": {
   "codemirror_mode": {
    "name": "ipython",
    "version": 3
   },
   "file_extension": ".py",
   "mimetype": "text/x-python",
   "name": "python",
   "nbconvert_exporter": "python",
   "pygments_lexer": "ipython3",
   "version": "3.6.1"
  }
 },
 "nbformat": 4,
 "nbformat_minor": 2
}
