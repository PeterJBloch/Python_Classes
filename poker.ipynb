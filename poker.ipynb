{
 "cells": [
  {
   "cell_type": "markdown",
   "metadata": {},
   "source": [
    "I expect advanced students to be trying this so I plan to provide minimal assistance. start by composing a list of trats and actions a poker hand has then start with an init fuction for a subclass of hand. a sugestion a function that detimes of there is a five card stright in the cards"
   ]
  },
  {
   "cell_type": "code",
   "execution_count": null,
   "metadata": {
    "collapsed": true
   },
   "outputs": [],
   "source": [
    "'''\n",
    "\n",
    "\n",
    "\n",
    "\n",
    "\n",
    "\n",
    "\n",
    "'''\n",
    "\n",
    "\n",
    "\n"
   ]
  },
  {
   "cell_type": "markdown",
   "metadata": {},
   "source": [
    "when you find a stright you should keep track of how hieght the stright is so you can comapre it to other hands with strights"
   ]
  },
  {
   "cell_type": "code",
   "execution_count": null,
   "metadata": {
    "collapsed": true
   },
   "outputs": [],
   "source": []
  },
  {
   "cell_type": "code",
   "execution_count": null,
   "metadata": {
    "collapsed": true
   },
   "outputs": [],
   "source": [
    "class pockerHand(C.hand):\n",
    "    def __init__(self,cards):\n",
    "        super().__init__(cards)\n",
    "    def stright(self):\n",
    "        cardRanks=super().ranks()\n",
    "        cardsValues=[]\n",
    "        for i in cardRanks:\n",
    "            cardsValues.append(Rankindex.index(i))\n",
    "        cardsValues.sort()\n",
    "        stright=True\n",
    "        print(len(cardsValues))\n",
    "        for i in range(len(cardsValues)-1):\n",
    "            print(cardsValues[i],cardsValues[i+1])\n",
    "            if (cardsValues[i]!=cardsValues[i+1]-1):\n",
    "                print(\"no\")\n",
    "                stright=False\n",
    "                break\n",
    "        if stright == False:\n",
    "            return stright\n",
    "        else:\n",
    "            return Rankindex[cardsValues[-1]]\n",
    "    def flush(self):\n",
    "        suit = super().suits()\n",
    "        for k,v in suit.items():\n",
    "            if v>4:\n",
    "                cardRanks=super().ranks()\n",
    "                cardRanks.sort()\n",
    "                return cardRanks[-1]\n",
    "        else:\n",
    "            return False \n",
    "        return False\n",
    "    def matches(self,num):\n",
    "        end = []\n",
    "        cardRanks=super().ranks()\n",
    "        difcards = set(cardRanks)\n",
    "        for i in difcards:\n",
    "            if cardRanks.count(i) == num:\n",
    "                end.append(i)\n",
    "        if len(end)==0:\n",
    "            return False\n",
    "        else:\n",
    "            return end\n",
    "    def evaluate(self):\n",
    "        '''\n",
    "        heigh card by out of 10 ie ace is 10 k is 10*12/13 never breakces the next level\n",
    "        \n",
    "        \n",
    "        '''\n",
    "        totalpoints=0\n",
    "        try:\n",
    "            totalpoints+=max(matches(1)).getValue()*10/13\n",
    "        except:\n",
    "            print(matches(1))\n",
    "        try:\n",
    "            for i in matches(2):\n",
    "                totalpoints+=\n",
    "    def __gt__(self,other):\n",
    "        return self.evaluate()>other.evaluate()\n",
    "    def __lt__(self,other):\n",
    "        return self.evaluate()<other.evaluate()\n",
    "    def __eq__(self,other):\n",
    "        return self.evaluate()==other.evaluate()"
   ]
  }
 ],
 "metadata": {
  "kernelspec": {
   "display_name": "Python 3",
   "language": "python",
   "name": "python3"
  },
  "language_info": {
   "codemirror_mode": {
    "name": "ipython",
    "version": 3
   },
   "file_extension": ".py",
   "mimetype": "text/x-python",
   "name": "python",
   "nbconvert_exporter": "python",
   "pygments_lexer": "ipython3",
   "version": "3.6.1"
  }
 },
 "nbformat": 4,
 "nbformat_minor": 2
}
